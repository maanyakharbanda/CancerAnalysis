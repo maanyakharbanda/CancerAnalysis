{
 "cells": [
  {
   "cell_type": "code",
   "execution_count": 4,
   "metadata": {},
   "outputs": [
    {
     "name": "stdout",
     "output_type": "stream",
     "text": [
      "Using device: cuda\n",
      "Batch size: 32, Epochs: 200\n",
      "Augmentation factor: 5x\n",
      "\n",
      "\n",
      "==================================================\n",
      "Creating training dataset with augmentation:\n",
      "Dataset: train.csv\n",
      "  Original samples: 1281\n",
      "  Positive (cancer): 1040 (81.2%)\n",
      "  Negative (healthy): 241 (18.8%)\n",
      "  All image files verified successfully\n",
      "  Augmented training size: 6405 images (5x original)\n",
      "\n",
      "==================================================\n",
      "Creating validation dataset:\n",
      "Dataset: valid.csv\n",
      "  Original samples: 240\n",
      "  Positive (cancer): 171 (71.2%)\n",
      "  Negative (healthy): 69 (28.7%)\n",
      "  All image files verified successfully\n",
      "  Validation size: 240 images\n",
      "\n",
      "==================================================\n",
      "Creating test dataset:\n",
      "Dataset: test.csv\n",
      "  Original samples: 121\n",
      "  Positive (cancer): 83 (68.6%)\n",
      "  Negative (healthy): 38 (31.4%)\n",
      "  All image files verified successfully\n",
      "  Test size: 121 images\n",
      "\n",
      "==================================================\n",
      "Training batches: 201 (6405 images)\n",
      "Validation batches: 8 (240 images)\n",
      "Test batches: 4 (121 images)\n",
      "\n",
      "==================================================\n",
      "Initializing ResNet50 model...\n",
      "\n",
      "Model architecture:\n",
      "ResNet(\n",
      "  (conv1): Conv2d(3, 64, kernel_size=(7, 7), stride=(2, 2), padding=(3, 3), bias=False)\n",
      "  (bn1): BatchNorm2d(64, eps=1e-05, momentum=0.1, affine=True, track_running_stats=True)\n",
      "  (relu): ReLU(inplace=True)\n",
      "  (maxpool): MaxPool2d(kernel_size=3, stride=2, padding=1, dilation=1, ceil_mode=False)\n",
      "  (layer1): Sequential(\n",
      "    (0): Bottleneck(\n",
      "      (conv1): Conv2d(64, 64, kernel_size=(1, 1), stride=(1, 1), bias=False)\n",
      "      (bn1): BatchNorm2d(64, eps=1e-05, momentum=0.1, affine=True, track_running_stats=True)\n",
      "      (conv2): Conv2d(64, 64, kernel_size=(3, 3), stride=(1, 1), padding=(1, 1), bias=False)\n",
      "      (bn2): BatchNorm2d(64, eps=1e-05, momentum=0.1, affine=True, track_running_stats=True)\n",
      "      (conv3): Conv2d(64, 256, kernel_size=(1, 1), stride=(1, 1), bias=False)\n",
      "      (bn3): BatchNorm2d(256, eps=1e-05, momentum=0.1, affine=True, track_running_stats=True)\n",
      "      (relu): ReLU(inplace=True)\n",
      "      (downsample): Sequential(\n",
      "        (0): Conv2d(64, 256, kernel_size=(1, 1), stride=(1, 1), bias=False)\n",
      "        (1): BatchNorm2d(256, eps=1e-05, momentum=0.1, affine=True, track_running_stats=True)\n",
      "      )\n",
      "    )\n",
      "    (1): Bottleneck(\n",
      "      (conv1): Conv2d(256, 64, kernel_size=(1, 1), stride=(1, 1), bias=False)\n",
      "      (bn1): BatchNorm2d(64, eps=1e-05, momentum=0.1, affine=True, track_running_stats=True)\n",
      "      (conv2): Conv2d(64, 64, kernel_size=(3, 3), stride=(1, 1), padding=(1, 1), bias=False)\n",
      "      (bn2): BatchNorm2d(64, eps=1e-05, momentum=0.1, affine=True, track_running_stats=True)\n",
      "      (conv3): Conv2d(64, 256, kernel_size=(1, 1), stride=(1, 1), bias=False)\n",
      "      (bn3): BatchNorm2d(256, eps=1e-05, momentum=0.1, affine=True, track_running_stats=True)\n",
      "      (relu): ReLU(inplace=True)\n",
      "    )\n",
      "    (2): Bottleneck(\n",
      "      (conv1): Conv2d(256, 64, kernel_size=(1, 1), stride=(1, 1), bias=False)\n",
      "      (bn1): BatchNorm2d(64, eps=1e-05, momentum=0.1, affine=True, track_running_stats=True)\n",
      "      (conv2): Conv2d(64, 64, kernel_size=(3, 3), stride=(1, 1), padding=(1, 1), bias=False)\n",
      "      (bn2): BatchNorm2d(64, eps=1e-05, momentum=0.1, affine=True, track_running_stats=True)\n",
      "      (conv3): Conv2d(64, 256, kernel_size=(1, 1), stride=(1, 1), bias=False)\n",
      "      (bn3): BatchNorm2d(256, eps=1e-05, momentum=0.1, affine=True, track_running_stats=True)\n",
      "      (relu): ReLU(inplace=True)\n",
      "    )\n",
      "  )\n",
      "  (layer2): Sequential(\n",
      "    (0): Bottleneck(\n",
      "      (conv1): Conv2d(256, 128, kernel_size=(1, 1), stride=(1, 1), bias=False)\n",
      "      (bn1): BatchNorm2d(128, eps=1e-05, momentum=0.1, affine=True, track_running_stats=True)\n",
      "      (conv2): Conv2d(128, 128, kernel_size=(3, 3), stride=(2, 2), padding=(1, 1), bias=False)\n",
      "      (bn2): BatchNorm2d(128, eps=1e-05, momentum=0.1, affine=True, track_running_stats=True)\n",
      "      (conv3): Conv2d(128, 512, kernel_size=(1, 1), stride=(1, 1), bias=False)\n",
      "      (bn3): BatchNorm2d(512, eps=1e-05, momentum=0.1, affine=True, track_running_stats=True)\n",
      "      (relu): ReLU(inplace=True)\n",
      "      (downsample): Sequential(\n",
      "        (0): Conv2d(256, 512, kernel_size=(1, 1), stride=(2, 2), bias=False)\n",
      "        (1): BatchNorm2d(512, eps=1e-05, momentum=0.1, affine=True, track_running_stats=True)\n",
      "      )\n",
      "    )\n",
      "    (1): Bottleneck(\n",
      "      (conv1): Conv2d(512, 128, kernel_size=(1, 1), stride=(1, 1), bias=False)\n",
      "      (bn1): BatchNorm2d(128, eps=1e-05, momentum=0.1, affine=True, track_running_stats=True)\n",
      "      (conv2): Conv2d(128, 128, kernel_size=(3, 3), stride=(1, 1), padding=(1, 1), bias=False)\n",
      "      (bn2): BatchNorm2d(128, eps=1e-05, momentum=0.1, affine=True, track_running_stats=True)\n",
      "      (conv3): Conv2d(128, 512, kernel_size=(1, 1), stride=(1, 1), bias=False)\n",
      "      (bn3): BatchNorm2d(512, eps=1e-05, momentum=0.1, affine=True, track_running_stats=True)\n",
      "      (relu): ReLU(inplace=True)\n",
      "    )\n",
      "    (2): Bottleneck(\n",
      "      (conv1): Conv2d(512, 128, kernel_size=(1, 1), stride=(1, 1), bias=False)\n",
      "      (bn1): BatchNorm2d(128, eps=1e-05, momentum=0.1, affine=True, track_running_stats=True)\n",
      "      (conv2): Conv2d(128, 128, kernel_size=(3, 3), stride=(1, 1), padding=(1, 1), bias=False)\n",
      "      (bn2): BatchNorm2d(128, eps=1e-05, momentum=0.1, affine=True, track_running_stats=True)\n",
      "      (conv3): Conv2d(128, 512, kernel_size=(1, 1), stride=(1, 1), bias=False)\n",
      "      (bn3): BatchNorm2d(512, eps=1e-05, momentum=0.1, affine=True, track_running_stats=True)\n",
      "      (relu): ReLU(inplace=True)\n",
      "    )\n",
      "    (3): Bottleneck(\n",
      "      (conv1): Conv2d(512, 128, kernel_size=(1, 1), stride=(1, 1), bias=False)\n",
      "      (bn1): BatchNorm2d(128, eps=1e-05, momentum=0.1, affine=True, track_running_stats=True)\n",
      "      (conv2): Conv2d(128, 128, kernel_size=(3, 3), stride=(1, 1), padding=(1, 1), bias=False)\n",
      "      (bn2): BatchNorm2d(128, eps=1e-05, momentum=0.1, affine=True, track_running_stats=True)\n",
      "      (conv3): Conv2d(128, 512, kernel_size=(1, 1), stride=(1, 1), bias=False)\n",
      "      (bn3): BatchNorm2d(512, eps=1e-05, momentum=0.1, affine=True, track_running_stats=True)\n",
      "      (relu): ReLU(inplace=True)\n",
      "    )\n",
      "  )\n",
      "  (layer3): Sequential(\n",
      "    (0): Bottleneck(\n",
      "      (conv1): Conv2d(512, 256, kernel_size=(1, 1), stride=(1, 1), bias=False)\n",
      "      (bn1): BatchNorm2d(256, eps=1e-05, momentum=0.1, affine=True, track_running_stats=True)\n",
      "      (conv2): Conv2d(256, 256, kernel_size=(3, 3), stride=(2, 2), padding=(1, 1), bias=False)\n",
      "      (bn2): BatchNorm2d(256, eps=1e-05, momentum=0.1, affine=True, track_running_stats=True)\n",
      "      (conv3): Conv2d(256, 1024, kernel_size=(1, 1), stride=(1, 1), bias=False)\n",
      "      (bn3): BatchNorm2d(1024, eps=1e-05, momentum=0.1, affine=True, track_running_stats=True)\n",
      "      (relu): ReLU(inplace=True)\n",
      "      (downsample): Sequential(\n",
      "        (0): Conv2d(512, 1024, kernel_size=(1, 1), stride=(2, 2), bias=False)\n",
      "        (1): BatchNorm2d(1024, eps=1e-05, momentum=0.1, affine=True, track_running_stats=True)\n",
      "      )\n",
      "    )\n",
      "    (1): Bottleneck(\n",
      "      (conv1): Conv2d(1024, 256, kernel_size=(1, 1), stride=(1, 1), bias=False)\n",
      "      (bn1): BatchNorm2d(256, eps=1e-05, momentum=0.1, affine=True, track_running_stats=True)\n",
      "      (conv2): Conv2d(256, 256, kernel_size=(3, 3), stride=(1, 1), padding=(1, 1), bias=False)\n",
      "      (bn2): BatchNorm2d(256, eps=1e-05, momentum=0.1, affine=True, track_running_stats=True)\n",
      "      (conv3): Conv2d(256, 1024, kernel_size=(1, 1), stride=(1, 1), bias=False)\n",
      "      (bn3): BatchNorm2d(1024, eps=1e-05, momentum=0.1, affine=True, track_running_stats=True)\n",
      "      (relu): ReLU(inplace=True)\n",
      "    )\n",
      "    (2): Bottleneck(\n",
      "      (conv1): Conv2d(1024, 256, kernel_size=(1, 1), stride=(1, 1), bias=False)\n",
      "      (bn1): BatchNorm2d(256, eps=1e-05, momentum=0.1, affine=True, track_running_stats=True)\n",
      "      (conv2): Conv2d(256, 256, kernel_size=(3, 3), stride=(1, 1), padding=(1, 1), bias=False)\n",
      "      (bn2): BatchNorm2d(256, eps=1e-05, momentum=0.1, affine=True, track_running_stats=True)\n",
      "      (conv3): Conv2d(256, 1024, kernel_size=(1, 1), stride=(1, 1), bias=False)\n",
      "      (bn3): BatchNorm2d(1024, eps=1e-05, momentum=0.1, affine=True, track_running_stats=True)\n",
      "      (relu): ReLU(inplace=True)\n",
      "    )\n",
      "    (3): Bottleneck(\n",
      "      (conv1): Conv2d(1024, 256, kernel_size=(1, 1), stride=(1, 1), bias=False)\n",
      "      (bn1): BatchNorm2d(256, eps=1e-05, momentum=0.1, affine=True, track_running_stats=True)\n",
      "      (conv2): Conv2d(256, 256, kernel_size=(3, 3), stride=(1, 1), padding=(1, 1), bias=False)\n",
      "      (bn2): BatchNorm2d(256, eps=1e-05, momentum=0.1, affine=True, track_running_stats=True)\n",
      "      (conv3): Conv2d(256, 1024, kernel_size=(1, 1), stride=(1, 1), bias=False)\n",
      "      (bn3): BatchNorm2d(1024, eps=1e-05, momentum=0.1, affine=True, track_running_stats=True)\n",
      "      (relu): ReLU(inplace=True)\n",
      "    )\n",
      "    (4): Bottleneck(\n",
      "      (conv1): Conv2d(1024, 256, kernel_size=(1, 1), stride=(1, 1), bias=False)\n",
      "      (bn1): BatchNorm2d(256, eps=1e-05, momentum=0.1, affine=True, track_running_stats=True)\n",
      "      (conv2): Conv2d(256, 256, kernel_size=(3, 3), stride=(1, 1), padding=(1, 1), bias=False)\n",
      "      (bn2): BatchNorm2d(256, eps=1e-05, momentum=0.1, affine=True, track_running_stats=True)\n",
      "      (conv3): Conv2d(256, 1024, kernel_size=(1, 1), stride=(1, 1), bias=False)\n",
      "      (bn3): BatchNorm2d(1024, eps=1e-05, momentum=0.1, affine=True, track_running_stats=True)\n",
      "      (relu): ReLU(inplace=True)\n",
      "    )\n",
      "    (5): Bottleneck(\n",
      "      (conv1): Conv2d(1024, 256, kernel_size=(1, 1), stride=(1, 1), bias=False)\n",
      "      (bn1): BatchNorm2d(256, eps=1e-05, momentum=0.1, affine=True, track_running_stats=True)\n",
      "      (conv2): Conv2d(256, 256, kernel_size=(3, 3), stride=(1, 1), padding=(1, 1), bias=False)\n",
      "      (bn2): BatchNorm2d(256, eps=1e-05, momentum=0.1, affine=True, track_running_stats=True)\n",
      "      (conv3): Conv2d(256, 1024, kernel_size=(1, 1), stride=(1, 1), bias=False)\n",
      "      (bn3): BatchNorm2d(1024, eps=1e-05, momentum=0.1, affine=True, track_running_stats=True)\n",
      "      (relu): ReLU(inplace=True)\n",
      "    )\n",
      "  )\n",
      "  (layer4): Sequential(\n",
      "    (0): Bottleneck(\n",
      "      (conv1): Conv2d(1024, 512, kernel_size=(1, 1), stride=(1, 1), bias=False)\n",
      "      (bn1): BatchNorm2d(512, eps=1e-05, momentum=0.1, affine=True, track_running_stats=True)\n",
      "      (conv2): Conv2d(512, 512, kernel_size=(3, 3), stride=(2, 2), padding=(1, 1), bias=False)\n",
      "      (bn2): BatchNorm2d(512, eps=1e-05, momentum=0.1, affine=True, track_running_stats=True)\n",
      "      (conv3): Conv2d(512, 2048, kernel_size=(1, 1), stride=(1, 1), bias=False)\n",
      "      (bn3): BatchNorm2d(2048, eps=1e-05, momentum=0.1, affine=True, track_running_stats=True)\n",
      "      (relu): ReLU(inplace=True)\n",
      "      (downsample): Sequential(\n",
      "        (0): Conv2d(1024, 2048, kernel_size=(1, 1), stride=(2, 2), bias=False)\n",
      "        (1): BatchNorm2d(2048, eps=1e-05, momentum=0.1, affine=True, track_running_stats=True)\n",
      "      )\n",
      "    )\n",
      "    (1): Bottleneck(\n",
      "      (conv1): Conv2d(2048, 512, kernel_size=(1, 1), stride=(1, 1), bias=False)\n",
      "      (bn1): BatchNorm2d(512, eps=1e-05, momentum=0.1, affine=True, track_running_stats=True)\n",
      "      (conv2): Conv2d(512, 512, kernel_size=(3, 3), stride=(1, 1), padding=(1, 1), bias=False)\n",
      "      (bn2): BatchNorm2d(512, eps=1e-05, momentum=0.1, affine=True, track_running_stats=True)\n",
      "      (conv3): Conv2d(512, 2048, kernel_size=(1, 1), stride=(1, 1), bias=False)\n",
      "      (bn3): BatchNorm2d(2048, eps=1e-05, momentum=0.1, affine=True, track_running_stats=True)\n",
      "      (relu): ReLU(inplace=True)\n",
      "    )\n",
      "    (2): Bottleneck(\n",
      "      (conv1): Conv2d(2048, 512, kernel_size=(1, 1), stride=(1, 1), bias=False)\n",
      "      (bn1): BatchNorm2d(512, eps=1e-05, momentum=0.1, affine=True, track_running_stats=True)\n",
      "      (conv2): Conv2d(512, 512, kernel_size=(3, 3), stride=(1, 1), padding=(1, 1), bias=False)\n",
      "      (bn2): BatchNorm2d(512, eps=1e-05, momentum=0.1, affine=True, track_running_stats=True)\n",
      "      (conv3): Conv2d(512, 2048, kernel_size=(1, 1), stride=(1, 1), bias=False)\n",
      "      (bn3): BatchNorm2d(2048, eps=1e-05, momentum=0.1, affine=True, track_running_stats=True)\n",
      "      (relu): ReLU(inplace=True)\n",
      "    )\n",
      "  )\n",
      "  (avgpool): AdaptiveAvgPool2d(output_size=(1, 1))\n",
      "  (fc): Linear(in_features=2048, out_features=1, bias=True)\n",
      ")\n",
      "\n",
      "Trainable parameters: 23,510,081\n",
      "\n",
      "Visualizing augmented images...\n",
      "Saved augmentation_samples.png\n",
      "\n",
      "==================================================\n",
      "Starting training...\n"
     ]
    },
    {
     "name": "stderr",
     "output_type": "stream",
     "text": [
      "                                                                                       \r"
     ]
    },
    {
     "name": "stdout",
     "output_type": "stream",
     "text": [
      "\n",
      "Epoch 1/200 (35.6s)\n",
      "  Train Loss: 0.1262\n",
      "  Val Loss: 0.1461 | Val Acc: 0.9458\n",
      "  Current LR: 0.001000\n",
      "  Saved new best model with accuracy: 0.9458\n"
     ]
    },
    {
     "name": "stderr",
     "output_type": "stream",
     "text": [
      "                                                                                        \r"
     ]
    },
    {
     "name": "stdout",
     "output_type": "stream",
     "text": [
      "\n",
      "Epoch 2/200 (35.3s)\n",
      "  Train Loss: 0.0904\n",
      "  Val Loss: 0.1634 | Val Acc: 0.9417\n",
      "  Current LR: 0.001000\n"
     ]
    },
    {
     "name": "stderr",
     "output_type": "stream",
     "text": [
      "                                                                                       \r"
     ]
    },
    {
     "name": "stdout",
     "output_type": "stream",
     "text": [
      "\n",
      "Epoch 3/200 (34.9s)\n",
      "  Train Loss: 0.0937\n",
      "  Val Loss: 0.1545 | Val Acc: 0.9417\n",
      "  Current LR: 0.001000\n"
     ]
    },
    {
     "name": "stderr",
     "output_type": "stream",
     "text": [
      "                                                                                       \r"
     ]
    },
    {
     "name": "stdout",
     "output_type": "stream",
     "text": [
      "\n",
      "Epoch 4/200 (34.4s)\n",
      "  Train Loss: 0.0949\n",
      "  Val Loss: 0.1540 | Val Acc: 0.9417\n",
      "  Current LR: 0.001000\n"
     ]
    },
    {
     "name": "stderr",
     "output_type": "stream",
     "text": [
      "                                                                                       \r"
     ]
    },
    {
     "name": "stdout",
     "output_type": "stream",
     "text": [
      "\n",
      "Epoch 5/200 (34.1s)\n",
      "  Train Loss: 0.0988\n",
      "  Val Loss: 0.1436 | Val Acc: 0.9500\n",
      "  Current LR: 0.001000\n",
      "  Saved new best model with accuracy: 0.9500\n"
     ]
    },
    {
     "name": "stderr",
     "output_type": "stream",
     "text": [
      "                                                                                       \r"
     ]
    },
    {
     "name": "stdout",
     "output_type": "stream",
     "text": [
      "\n",
      "Epoch 6/200 (34.4s)\n",
      "  Train Loss: 0.1070\n",
      "  Val Loss: 0.1451 | Val Acc: 0.9500\n",
      "  Current LR: 0.001000\n"
     ]
    },
    {
     "name": "stderr",
     "output_type": "stream",
     "text": [
      "                                                                                       \r"
     ]
    },
    {
     "name": "stdout",
     "output_type": "stream",
     "text": [
      "\n",
      "Epoch 7/200 (34.6s)\n",
      "  Train Loss: 0.0895\n",
      "  Val Loss: 0.1611 | Val Acc: 0.9458\n",
      "  Current LR: 0.001000\n"
     ]
    },
    {
     "name": "stderr",
     "output_type": "stream",
     "text": [
      "                                                                                       \r"
     ]
    },
    {
     "name": "stdout",
     "output_type": "stream",
     "text": [
      "\n",
      "Epoch 8/200 (34.0s)\n",
      "  Train Loss: 0.0921\n",
      "  Val Loss: 0.1424 | Val Acc: 0.9542\n",
      "  Current LR: 0.001000\n",
      "  Saved new best model with accuracy: 0.9542\n"
     ]
    },
    {
     "name": "stderr",
     "output_type": "stream",
     "text": [
      "                                                                                       \r"
     ]
    },
    {
     "name": "stdout",
     "output_type": "stream",
     "text": [
      "\n",
      "Epoch 9/200 (34.6s)\n",
      "  Train Loss: 0.0852\n",
      "  Val Loss: 0.1325 | Val Acc: 0.9500\n",
      "  Current LR: 0.001000\n"
     ]
    },
    {
     "name": "stderr",
     "output_type": "stream",
     "text": [
      "                                                                                        \r"
     ]
    },
    {
     "name": "stdout",
     "output_type": "stream",
     "text": [
      "\n",
      "Epoch 10/200 (34.3s)\n",
      "  Train Loss: 0.0881\n",
      "  Val Loss: 0.1507 | Val Acc: 0.9500\n",
      "  Current LR: 0.001000\n"
     ]
    },
    {
     "name": "stderr",
     "output_type": "stream",
     "text": [
      "                                                                                        \r"
     ]
    },
    {
     "name": "stdout",
     "output_type": "stream",
     "text": [
      "\n",
      "Epoch 11/200 (34.5s)\n",
      "  Train Loss: 0.0837\n",
      "  Val Loss: 0.1577 | Val Acc: 0.9500\n",
      "  Current LR: 0.001000\n"
     ]
    },
    {
     "name": "stderr",
     "output_type": "stream",
     "text": [
      "                                                                                        \r"
     ]
    },
    {
     "name": "stdout",
     "output_type": "stream",
     "text": [
      "\n",
      "Epoch 12/200 (34.3s)\n",
      "  Train Loss: 0.0813\n",
      "  Val Loss: 0.1408 | Val Acc: 0.9500\n",
      "  Current LR: 0.001000\n",
      "  LR reduced from 0.001000 to 0.000500\n"
     ]
    },
    {
     "name": "stderr",
     "output_type": "stream",
     "text": [
      "                                                                                        \r"
     ]
    },
    {
     "name": "stdout",
     "output_type": "stream",
     "text": [
      "\n",
      "Epoch 13/200 (34.7s)\n",
      "  Train Loss: 0.0798\n",
      "  Val Loss: 0.1341 | Val Acc: 0.9500\n",
      "  Current LR: 0.000500\n"
     ]
    },
    {
     "name": "stderr",
     "output_type": "stream",
     "text": [
      "                                                                                        \r"
     ]
    },
    {
     "name": "stdout",
     "output_type": "stream",
     "text": [
      "\n",
      "Epoch 14/200 (34.6s)\n",
      "  Train Loss: 0.0773\n",
      "  Val Loss: 0.1383 | Val Acc: 0.9458\n",
      "  Current LR: 0.000500\n"
     ]
    },
    {
     "name": "stderr",
     "output_type": "stream",
     "text": [
      "                                                                                        \r"
     ]
    },
    {
     "name": "stdout",
     "output_type": "stream",
     "text": [
      "\n",
      "Epoch 15/200 (34.7s)\n",
      "  Train Loss: 0.0784\n",
      "  Val Loss: 0.1734 | Val Acc: 0.9500\n",
      "  Current LR: 0.000500\n"
     ]
    },
    {
     "name": "stderr",
     "output_type": "stream",
     "text": [
      "                                                                                        \r"
     ]
    },
    {
     "name": "stdout",
     "output_type": "stream",
     "text": [
      "\n",
      "Epoch 16/200 (34.6s)\n",
      "  Train Loss: 0.0741\n",
      "  Val Loss: 0.1495 | Val Acc: 0.9542\n",
      "  Current LR: 0.000500\n",
      "  LR reduced from 0.000500 to 0.000250\n"
     ]
    },
    {
     "name": "stderr",
     "output_type": "stream",
     "text": [
      "                                                                                        \r"
     ]
    },
    {
     "name": "stdout",
     "output_type": "stream",
     "text": [
      "\n",
      "Epoch 17/200 (34.9s)\n",
      "  Train Loss: 0.0713\n",
      "  Val Loss: 0.1572 | Val Acc: 0.9333\n",
      "  Current LR: 0.000250\n"
     ]
    },
    {
     "name": "stderr",
     "output_type": "stream",
     "text": [
      "                                                                                        \r"
     ]
    },
    {
     "name": "stdout",
     "output_type": "stream",
     "text": [
      "\n",
      "Epoch 18/200 (34.9s)\n",
      "  Train Loss: 0.0703\n",
      "  Val Loss: 0.1343 | Val Acc: 0.9542\n",
      "  Current LR: 0.000250\n"
     ]
    },
    {
     "name": "stderr",
     "output_type": "stream",
     "text": [
      "                                                                                        \r"
     ]
    },
    {
     "name": "stdout",
     "output_type": "stream",
     "text": [
      "\n",
      "Epoch 19/200 (35.3s)\n",
      "  Train Loss: 0.0702\n",
      "  Val Loss: 0.1306 | Val Acc: 0.9500\n",
      "  Current LR: 0.000250\n"
     ]
    },
    {
     "name": "stderr",
     "output_type": "stream",
     "text": [
      "                                                                                        \r"
     ]
    },
    {
     "name": "stdout",
     "output_type": "stream",
     "text": [
      "\n",
      "Epoch 20/200 (34.9s)\n",
      "  Train Loss: 0.0695\n",
      "  Val Loss: 0.1405 | Val Acc: 0.9417\n",
      "  Current LR: 0.000250\n",
      "  LR reduced from 0.000250 to 0.000125\n"
     ]
    },
    {
     "name": "stderr",
     "output_type": "stream",
     "text": [
      "                                                                                        \r"
     ]
    },
    {
     "name": "stdout",
     "output_type": "stream",
     "text": [
      "\n",
      "Epoch 21/200 (36.6s)\n",
      "  Train Loss: 0.0682\n",
      "  Val Loss: 0.1488 | Val Acc: 0.9500\n",
      "  Current LR: 0.000125\n"
     ]
    },
    {
     "name": "stderr",
     "output_type": "stream",
     "text": [
      "                                                                                        \r"
     ]
    },
    {
     "name": "stdout",
     "output_type": "stream",
     "text": [
      "\n",
      "Epoch 22/200 (36.9s)\n",
      "  Train Loss: 0.0680\n",
      "  Val Loss: 0.1450 | Val Acc: 0.9458\n",
      "  Current LR: 0.000125\n"
     ]
    },
    {
     "name": "stderr",
     "output_type": "stream",
     "text": [
      "                                                                                        \r"
     ]
    },
    {
     "name": "stdout",
     "output_type": "stream",
     "text": [
      "\n",
      "Epoch 23/200 (36.6s)\n",
      "  Train Loss: 0.0648\n",
      "  Val Loss: 0.1476 | Val Acc: 0.9417\n",
      "  Current LR: 0.000125\n"
     ]
    },
    {
     "name": "stderr",
     "output_type": "stream",
     "text": [
      "                                                                                        \r"
     ]
    },
    {
     "name": "stdout",
     "output_type": "stream",
     "text": [
      "\n",
      "Epoch 24/200 (35.3s)\n",
      "  Train Loss: 0.0623\n",
      "  Val Loss: 0.1510 | Val Acc: 0.9417\n",
      "  Current LR: 0.000125\n",
      "  LR reduced from 0.000125 to 0.000063\n"
     ]
    },
    {
     "name": "stderr",
     "output_type": "stream",
     "text": [
      "                                                                                         \r"
     ]
    },
    {
     "name": "stdout",
     "output_type": "stream",
     "text": [
      "\n",
      "Epoch 25/200 (35.1s)\n",
      "  Train Loss: 0.0590\n",
      "  Val Loss: 0.1481 | Val Acc: 0.9292\n",
      "  Current LR: 0.000063\n"
     ]
    },
    {
     "name": "stderr",
     "output_type": "stream",
     "text": [
      "                                                                                        \r"
     ]
    },
    {
     "name": "stdout",
     "output_type": "stream",
     "text": [
      "\n",
      "Epoch 26/200 (35.1s)\n",
      "  Train Loss: 0.0566\n",
      "  Val Loss: 0.1616 | Val Acc: 0.9250\n",
      "  Current LR: 0.000063\n"
     ]
    },
    {
     "name": "stderr",
     "output_type": "stream",
     "text": [
      "                                                                                        \r"
     ]
    },
    {
     "name": "stdout",
     "output_type": "stream",
     "text": [
      "\n",
      "Epoch 27/200 (34.8s)\n",
      "  Train Loss: 0.0574\n",
      "  Val Loss: 0.1540 | Val Acc: 0.9375\n",
      "  Current LR: 0.000063\n"
     ]
    },
    {
     "name": "stderr",
     "output_type": "stream",
     "text": [
      "                                                                                        \r"
     ]
    },
    {
     "name": "stdout",
     "output_type": "stream",
     "text": [
      "\n",
      "Epoch 28/200 (34.8s)\n",
      "  Train Loss: 0.0504\n",
      "  Val Loss: 0.1736 | Val Acc: 0.9250\n",
      "  Current LR: 0.000063\n",
      "  LR reduced from 0.000063 to 0.000031\n"
     ]
    },
    {
     "name": "stderr",
     "output_type": "stream",
     "text": [
      "                                                                                         \r"
     ]
    },
    {
     "name": "stdout",
     "output_type": "stream",
     "text": [
      "\n",
      "Epoch 29/200 (35.1s)\n",
      "  Train Loss: 0.0544\n",
      "  Val Loss: 0.1766 | Val Acc: 0.9250\n",
      "  Current LR: 0.000031\n"
     ]
    },
    {
     "name": "stderr",
     "output_type": "stream",
     "text": [
      "                                                                                        \r"
     ]
    },
    {
     "name": "stdout",
     "output_type": "stream",
     "text": [
      "\n",
      "Epoch 30/200 (35.3s)\n",
      "  Train Loss: 0.0485\n",
      "  Val Loss: 0.1959 | Val Acc: 0.9208\n",
      "  Current LR: 0.000031\n"
     ]
    },
    {
     "name": "stderr",
     "output_type": "stream",
     "text": [
      "                                                                                        \r"
     ]
    },
    {
     "name": "stdout",
     "output_type": "stream",
     "text": [
      "\n",
      "Epoch 31/200 (35.4s)\n",
      "  Train Loss: 0.0484\n",
      "  Val Loss: 0.1951 | Val Acc: 0.9292\n",
      "  Current LR: 0.000031\n"
     ]
    },
    {
     "name": "stderr",
     "output_type": "stream",
     "text": [
      "                                                                                         \r"
     ]
    },
    {
     "name": "stdout",
     "output_type": "stream",
     "text": [
      "\n",
      "Epoch 32/200 (35.3s)\n",
      "  Train Loss: 0.0455\n",
      "  Val Loss: 0.2041 | Val Acc: 0.9167\n",
      "  Current LR: 0.000031\n",
      "  LR reduced from 0.000031 to 0.000016\n"
     ]
    },
    {
     "name": "stderr",
     "output_type": "stream",
     "text": [
      "                                                                                        \r"
     ]
    },
    {
     "name": "stdout",
     "output_type": "stream",
     "text": [
      "\n",
      "Epoch 33/200 (35.4s)\n",
      "  Train Loss: 0.0421\n",
      "  Val Loss: 0.1999 | Val Acc: 0.9333\n",
      "  Current LR: 0.000016\n"
     ]
    },
    {
     "name": "stderr",
     "output_type": "stream",
     "text": [
      "                                                                                        \r"
     ]
    },
    {
     "name": "stdout",
     "output_type": "stream",
     "text": [
      "\n",
      "Epoch 34/200 (35.1s)\n",
      "  Train Loss: 0.0441\n",
      "  Val Loss: 0.2097 | Val Acc: 0.9208\n",
      "  Current LR: 0.000016\n"
     ]
    },
    {
     "name": "stderr",
     "output_type": "stream",
     "text": [
      "                                                                                        \r"
     ]
    },
    {
     "name": "stdout",
     "output_type": "stream",
     "text": [
      "\n",
      "Epoch 35/200 (35.0s)\n",
      "  Train Loss: 0.0407\n",
      "  Val Loss: 0.2140 | Val Acc: 0.9375\n",
      "  Current LR: 0.000016\n"
     ]
    },
    {
     "name": "stderr",
     "output_type": "stream",
     "text": [
      "                                                                                         \r"
     ]
    },
    {
     "name": "stdout",
     "output_type": "stream",
     "text": [
      "\n",
      "Epoch 36/200 (35.0s)\n",
      "  Train Loss: 0.0402\n",
      "  Val Loss: 0.2201 | Val Acc: 0.9250\n",
      "  Current LR: 0.000016\n",
      "  LR reduced from 0.000016 to 0.000008\n"
     ]
    },
    {
     "name": "stderr",
     "output_type": "stream",
     "text": [
      "                                                                                        \r"
     ]
    },
    {
     "name": "stdout",
     "output_type": "stream",
     "text": [
      "\n",
      "Epoch 37/200 (34.8s)\n",
      "  Train Loss: 0.0401\n",
      "  Val Loss: 0.2096 | Val Acc: 0.9250\n",
      "  Current LR: 0.000008\n"
     ]
    },
    {
     "name": "stderr",
     "output_type": "stream",
     "text": [
      "                                                                                        \r"
     ]
    },
    {
     "name": "stdout",
     "output_type": "stream",
     "text": [
      "\n",
      "Epoch 38/200 (34.7s)\n",
      "  Train Loss: 0.0380\n",
      "  Val Loss: 0.2311 | Val Acc: 0.9167\n",
      "  Current LR: 0.000008\n"
     ]
    },
    {
     "name": "stderr",
     "output_type": "stream",
     "text": [
      "                                                                                         \r"
     ]
    },
    {
     "name": "stdout",
     "output_type": "stream",
     "text": [
      "\n",
      "Epoch 39/200 (34.7s)\n",
      "  Train Loss: 0.0353\n",
      "  Val Loss: 0.2271 | Val Acc: 0.9167\n",
      "  Current LR: 0.000008\n"
     ]
    },
    {
     "name": "stderr",
     "output_type": "stream",
     "text": [
      "                                                                                        \r"
     ]
    },
    {
     "name": "stdout",
     "output_type": "stream",
     "text": [
      "\n",
      "Epoch 40/200 (34.9s)\n",
      "  Train Loss: 0.0393\n",
      "  Val Loss: 0.2342 | Val Acc: 0.9167\n",
      "  Current LR: 0.000008\n",
      "  LR reduced from 0.000008 to 0.000004\n"
     ]
    },
    {
     "name": "stderr",
     "output_type": "stream",
     "text": [
      "                                                                                         \r"
     ]
    },
    {
     "name": "stdout",
     "output_type": "stream",
     "text": [
      "\n",
      "Epoch 41/200 (35.0s)\n",
      "  Train Loss: 0.0390\n",
      "  Val Loss: 0.2323 | Val Acc: 0.9250\n",
      "  Current LR: 0.000004\n"
     ]
    },
    {
     "name": "stderr",
     "output_type": "stream",
     "text": [
      "                                                                                         \r"
     ]
    },
    {
     "name": "stdout",
     "output_type": "stream",
     "text": [
      "\n",
      "Epoch 42/200 (35.0s)\n",
      "  Train Loss: 0.0343\n",
      "  Val Loss: 0.2262 | Val Acc: 0.9208\n",
      "  Current LR: 0.000004\n"
     ]
    },
    {
     "name": "stderr",
     "output_type": "stream",
     "text": [
      "                                                                                        \r"
     ]
    },
    {
     "name": "stdout",
     "output_type": "stream",
     "text": [
      "\n",
      "Epoch 43/200 (35.1s)\n",
      "  Train Loss: 0.0380\n",
      "  Val Loss: 0.2408 | Val Acc: 0.9208\n",
      "  Current LR: 0.000004\n"
     ]
    },
    {
     "name": "stderr",
     "output_type": "stream",
     "text": [
      "                                                                                         \r"
     ]
    },
    {
     "name": "stdout",
     "output_type": "stream",
     "text": [
      "\n",
      "Epoch 44/200 (35.4s)\n",
      "  Train Loss: 0.0318\n",
      "  Val Loss: 0.2416 | Val Acc: 0.9167\n",
      "  Current LR: 0.000004\n",
      "  LR reduced from 0.000004 to 0.000002\n"
     ]
    },
    {
     "name": "stderr",
     "output_type": "stream",
     "text": [
      "                                                                                         \r"
     ]
    },
    {
     "name": "stdout",
     "output_type": "stream",
     "text": [
      "\n",
      "Epoch 45/200 (35.3s)\n",
      "  Train Loss: 0.0338\n",
      "  Val Loss: 0.2318 | Val Acc: 0.9208\n",
      "  Current LR: 0.000002\n"
     ]
    },
    {
     "name": "stderr",
     "output_type": "stream",
     "text": [
      "                                                                                         \r"
     ]
    },
    {
     "name": "stdout",
     "output_type": "stream",
     "text": [
      "\n",
      "Epoch 46/200 (35.4s)\n",
      "  Train Loss: 0.0339\n",
      "  Val Loss: 0.2334 | Val Acc: 0.9167\n",
      "  Current LR: 0.000002\n"
     ]
    },
    {
     "name": "stderr",
     "output_type": "stream",
     "text": [
      "                                                                                        \r"
     ]
    },
    {
     "name": "stdout",
     "output_type": "stream",
     "text": [
      "\n",
      "Epoch 47/200 (35.2s)\n",
      "  Train Loss: 0.0344\n",
      "  Val Loss: 0.2300 | Val Acc: 0.9208\n",
      "  Current LR: 0.000002\n"
     ]
    },
    {
     "name": "stderr",
     "output_type": "stream",
     "text": [
      "                                                                                         \r"
     ]
    },
    {
     "name": "stdout",
     "output_type": "stream",
     "text": [
      "\n",
      "Epoch 48/200 (35.0s)\n",
      "  Train Loss: 0.0358\n",
      "  Val Loss: 0.2357 | Val Acc: 0.9208\n",
      "  Current LR: 0.000002\n",
      "  LR reduced from 0.000002 to 0.000001\n"
     ]
    },
    {
     "name": "stderr",
     "output_type": "stream",
     "text": [
      "                                                                                         \r"
     ]
    },
    {
     "name": "stdout",
     "output_type": "stream",
     "text": [
      "\n",
      "Epoch 49/200 (34.8s)\n",
      "  Train Loss: 0.0361\n",
      "  Val Loss: 0.2359 | Val Acc: 0.9208\n",
      "  Current LR: 0.000001\n"
     ]
    },
    {
     "name": "stderr",
     "output_type": "stream",
     "text": [
      "                                                                                         \r"
     ]
    },
    {
     "name": "stdout",
     "output_type": "stream",
     "text": [
      "\n",
      "Epoch 50/200 (34.8s)\n",
      "  Train Loss: 0.0354\n",
      "  Val Loss: 0.2312 | Val Acc: 0.9208\n",
      "  Current LR: 0.000001\n"
     ]
    },
    {
     "name": "stderr",
     "output_type": "stream",
     "text": [
      "                                                                                        \r"
     ]
    },
    {
     "name": "stdout",
     "output_type": "stream",
     "text": [
      "\n",
      "Epoch 51/200 (34.8s)\n",
      "  Train Loss: 0.0322\n",
      "  Val Loss: 0.2430 | Val Acc: 0.9125\n",
      "  Current LR: 0.000001\n"
     ]
    },
    {
     "name": "stderr",
     "output_type": "stream",
     "text": [
      "                                                                                         \r"
     ]
    },
    {
     "name": "stdout",
     "output_type": "stream",
     "text": [
      "\n",
      "Epoch 52/200 (35.0s)\n",
      "  Train Loss: 0.0356\n",
      "  Val Loss: 0.2382 | Val Acc: 0.9208\n",
      "  Current LR: 0.000001\n",
      "  LR reduced from 0.000001 to 0.000000\n"
     ]
    },
    {
     "name": "stderr",
     "output_type": "stream",
     "text": [
      "                                                                                         \r"
     ]
    },
    {
     "name": "stdout",
     "output_type": "stream",
     "text": [
      "\n",
      "Epoch 53/200 (35.3s)\n",
      "  Train Loss: 0.0333\n",
      "  Val Loss: 0.2422 | Val Acc: 0.9208\n",
      "  Current LR: 0.000000\n"
     ]
    },
    {
     "name": "stderr",
     "output_type": "stream",
     "text": [
      "                                                                                         \r"
     ]
    },
    {
     "name": "stdout",
     "output_type": "stream",
     "text": [
      "\n",
      "Epoch 54/200 (35.4s)\n",
      "  Train Loss: 0.0359\n",
      "  Val Loss: 0.2419 | Val Acc: 0.9167\n",
      "  Current LR: 0.000000\n"
     ]
    },
    {
     "name": "stderr",
     "output_type": "stream",
     "text": [
      "                                                                                         \r"
     ]
    },
    {
     "name": "stdout",
     "output_type": "stream",
     "text": [
      "\n",
      "Epoch 55/200 (35.4s)\n",
      "  Train Loss: 0.0354\n",
      "  Val Loss: 0.2267 | Val Acc: 0.9292\n",
      "  Current LR: 0.000000\n"
     ]
    },
    {
     "name": "stderr",
     "output_type": "stream",
     "text": [
      "                                                                                         \r"
     ]
    },
    {
     "name": "stdout",
     "output_type": "stream",
     "text": [
      "\n",
      "Epoch 56/200 (35.4s)\n",
      "  Train Loss: 0.0335\n",
      "  Val Loss: 0.2365 | Val Acc: 0.9208\n",
      "  Current LR: 0.000000\n",
      "  LR reduced from 0.000000 to 0.000000\n"
     ]
    },
    {
     "name": "stderr",
     "output_type": "stream",
     "text": [
      "                                                                                         \r"
     ]
    },
    {
     "name": "stdout",
     "output_type": "stream",
     "text": [
      "\n",
      "Epoch 57/200 (35.4s)\n",
      "  Train Loss: 0.0344\n",
      "  Val Loss: 0.2367 | Val Acc: 0.9208\n",
      "  Current LR: 0.000000\n"
     ]
    },
    {
     "name": "stderr",
     "output_type": "stream",
     "text": [
      "                                                                                        \r"
     ]
    },
    {
     "name": "stdout",
     "output_type": "stream",
     "text": [
      "\n",
      "Epoch 58/200 (35.1s)\n",
      "  Train Loss: 0.0346\n",
      "  Val Loss: 0.2328 | Val Acc: 0.9208\n",
      "  Current LR: 0.000000\n"
     ]
    },
    {
     "name": "stderr",
     "output_type": "stream",
     "text": [
      "                                                                                         \r"
     ]
    },
    {
     "name": "stdout",
     "output_type": "stream",
     "text": [
      "\n",
      "Epoch 59/200 (34.9s)\n",
      "  Train Loss: 0.0329\n",
      "  Val Loss: 0.2413 | Val Acc: 0.9208\n",
      "  Current LR: 0.000000\n"
     ]
    },
    {
     "name": "stderr",
     "output_type": "stream",
     "text": [
      "                                                                                         \r"
     ]
    },
    {
     "name": "stdout",
     "output_type": "stream",
     "text": [
      "\n",
      "Epoch 60/200 (34.9s)\n",
      "  Train Loss: 0.0327\n",
      "  Val Loss: 0.2351 | Val Acc: 0.9208\n",
      "  Current LR: 0.000000\n",
      "  LR reduced from 0.000000 to 0.000000\n"
     ]
    },
    {
     "name": "stderr",
     "output_type": "stream",
     "text": [
      "                                                                                        \r"
     ]
    },
    {
     "name": "stdout",
     "output_type": "stream",
     "text": [
      "\n",
      "Epoch 61/200 (34.9s)\n",
      "  Train Loss: 0.0320\n",
      "  Val Loss: 0.2339 | Val Acc: 0.9208\n",
      "  Current LR: 0.000000\n"
     ]
    },
    {
     "name": "stderr",
     "output_type": "stream",
     "text": [
      "                                                                                        \r"
     ]
    },
    {
     "name": "stdout",
     "output_type": "stream",
     "text": [
      "\n",
      "Epoch 62/200 (34.8s)\n",
      "  Train Loss: 0.0358\n",
      "  Val Loss: 0.2343 | Val Acc: 0.9208\n",
      "  Current LR: 0.000000\n"
     ]
    },
    {
     "name": "stderr",
     "output_type": "stream",
     "text": [
      "                                                                                         \r"
     ]
    },
    {
     "name": "stdout",
     "output_type": "stream",
     "text": [
      "\n",
      "Epoch 63/200 (34.8s)\n",
      "  Train Loss: 0.0330\n",
      "  Val Loss: 0.2356 | Val Acc: 0.9208\n",
      "  Current LR: 0.000000\n"
     ]
    },
    {
     "name": "stderr",
     "output_type": "stream",
     "text": [
      "                                                                                        \r"
     ]
    },
    {
     "name": "stdout",
     "output_type": "stream",
     "text": [
      "\n",
      "Epoch 64/200 (34.8s)\n",
      "  Train Loss: 0.0338\n",
      "  Val Loss: 0.2191 | Val Acc: 0.9250\n",
      "  Current LR: 0.000000\n",
      "  LR reduced from 0.000000 to 0.000000\n"
     ]
    },
    {
     "name": "stderr",
     "output_type": "stream",
     "text": [
      "                                                                                         \r"
     ]
    },
    {
     "name": "stdout",
     "output_type": "stream",
     "text": [
      "\n",
      "Epoch 65/200 (35.0s)\n",
      "  Train Loss: 0.0351\n",
      "  Val Loss: 0.2343 | Val Acc: 0.9208\n",
      "  Current LR: 0.000000\n"
     ]
    },
    {
     "name": "stderr",
     "output_type": "stream",
     "text": [
      "                                                                                         \r"
     ]
    },
    {
     "name": "stdout",
     "output_type": "stream",
     "text": [
      "\n",
      "Epoch 66/200 (35.1s)\n",
      "  Train Loss: 0.0330\n",
      "  Val Loss: 0.2386 | Val Acc: 0.9208\n",
      "  Current LR: 0.000000\n"
     ]
    },
    {
     "name": "stderr",
     "output_type": "stream",
     "text": [
      "                                                                                         \r"
     ]
    },
    {
     "name": "stdout",
     "output_type": "stream",
     "text": [
      "\n",
      "Epoch 67/200 (35.1s)\n",
      "  Train Loss: 0.0359\n",
      "  Val Loss: 0.2418 | Val Acc: 0.9208\n",
      "  Current LR: 0.000000\n"
     ]
    },
    {
     "name": "stderr",
     "output_type": "stream",
     "text": [
      "                                                                                         \r"
     ]
    },
    {
     "name": "stdout",
     "output_type": "stream",
     "text": [
      "\n",
      "Epoch 68/200 (35.4s)\n",
      "  Train Loss: 0.0299\n",
      "  Val Loss: 0.2392 | Val Acc: 0.9208\n",
      "  Current LR: 0.000000\n",
      "  LR reduced from 0.000000 to 0.000000\n"
     ]
    },
    {
     "name": "stderr",
     "output_type": "stream",
     "text": [
      "                                                                                         \r"
     ]
    },
    {
     "name": "stdout",
     "output_type": "stream",
     "text": [
      "\n",
      "Epoch 69/200 (35.4s)\n",
      "  Train Loss: 0.0320\n",
      "  Val Loss: 0.2325 | Val Acc: 0.9208\n",
      "  Current LR: 0.000000\n"
     ]
    },
    {
     "name": "stderr",
     "output_type": "stream",
     "text": [
      "                                                                                        \r"
     ]
    },
    {
     "name": "stdout",
     "output_type": "stream",
     "text": [
      "\n",
      "Epoch 70/200 (35.1s)\n",
      "  Train Loss: 0.0337\n",
      "  Val Loss: 0.2388 | Val Acc: 0.9208\n",
      "  Current LR: 0.000000\n"
     ]
    },
    {
     "name": "stderr",
     "output_type": "stream",
     "text": [
      "                                                                                         \r"
     ]
    },
    {
     "name": "stdout",
     "output_type": "stream",
     "text": [
      "\n",
      "Epoch 71/200 (34.6s)\n",
      "  Train Loss: 0.0327\n",
      "  Val Loss: 0.2373 | Val Acc: 0.9208\n",
      "  Current LR: 0.000000\n"
     ]
    },
    {
     "name": "stderr",
     "output_type": "stream",
     "text": [
      "                                                                                        \r"
     ]
    },
    {
     "name": "stdout",
     "output_type": "stream",
     "text": [
      "\n",
      "Epoch 72/200 (34.2s)\n",
      "  Train Loss: 0.0359\n",
      "  Val Loss: 0.2384 | Val Acc: 0.9208\n",
      "  Current LR: 0.000000\n",
      "  LR reduced from 0.000000 to 0.000000\n"
     ]
    },
    {
     "name": "stderr",
     "output_type": "stream",
     "text": [
      "                                                                                         \r"
     ]
    },
    {
     "name": "stdout",
     "output_type": "stream",
     "text": [
      "\n",
      "Epoch 73/200 (34.3s)\n",
      "  Train Loss: 0.0355\n",
      "  Val Loss: 0.2383 | Val Acc: 0.9250\n",
      "  Current LR: 0.000000\n"
     ]
    },
    {
     "name": "stderr",
     "output_type": "stream",
     "text": [
      "                                                                                         \r"
     ]
    },
    {
     "name": "stdout",
     "output_type": "stream",
     "text": [
      "\n",
      "Epoch 74/200 (34.4s)\n",
      "  Train Loss: 0.0342\n",
      "  Val Loss: 0.2396 | Val Acc: 0.9208\n",
      "  Current LR: 0.000000\n"
     ]
    },
    {
     "name": "stderr",
     "output_type": "stream",
     "text": [
      "                                                                                         \r"
     ]
    },
    {
     "name": "stdout",
     "output_type": "stream",
     "text": [
      "\n",
      "Epoch 75/200 (34.2s)\n",
      "  Train Loss: 0.0331\n",
      "  Val Loss: 0.2419 | Val Acc: 0.9208\n",
      "  Current LR: 0.000000\n"
     ]
    },
    {
     "name": "stderr",
     "output_type": "stream",
     "text": [
      "                                                                                         \r"
     ]
    },
    {
     "name": "stdout",
     "output_type": "stream",
     "text": [
      "\n",
      "Epoch 76/200 (34.2s)\n",
      "  Train Loss: 0.0337\n",
      "  Val Loss: 0.2334 | Val Acc: 0.9208\n",
      "  Current LR: 0.000000\n"
     ]
    },
    {
     "name": "stderr",
     "output_type": "stream",
     "text": [
      "                                                                                        \r"
     ]
    },
    {
     "name": "stdout",
     "output_type": "stream",
     "text": [
      "\n",
      "Epoch 77/200 (34.6s)\n",
      "  Train Loss: 0.0340\n",
      "  Val Loss: 0.2328 | Val Acc: 0.9208\n",
      "  Current LR: 0.000000\n"
     ]
    },
    {
     "name": "stderr",
     "output_type": "stream",
     "text": [
      "                                                                                         \r"
     ]
    },
    {
     "name": "stdout",
     "output_type": "stream",
     "text": [
      "\n",
      "Epoch 78/200 (34.7s)\n",
      "  Train Loss: 0.0322\n",
      "  Val Loss: 0.2385 | Val Acc: 0.9250\n",
      "  Current LR: 0.000000\n"
     ]
    },
    {
     "name": "stderr",
     "output_type": "stream",
     "text": [
      "                                                                                         \r"
     ]
    },
    {
     "name": "stdout",
     "output_type": "stream",
     "text": [
      "\n",
      "Epoch 79/200 (35.1s)\n",
      "  Train Loss: 0.0314\n",
      "  Val Loss: 0.2332 | Val Acc: 0.9208\n",
      "  Current LR: 0.000000\n"
     ]
    },
    {
     "name": "stderr",
     "output_type": "stream",
     "text": [
      "                                                                                         \r"
     ]
    },
    {
     "name": "stdout",
     "output_type": "stream",
     "text": [
      "\n",
      "Epoch 80/200 (35.4s)\n",
      "  Train Loss: 0.0318\n",
      "  Val Loss: 0.2343 | Val Acc: 0.9167\n",
      "  Current LR: 0.000000\n"
     ]
    },
    {
     "name": "stderr",
     "output_type": "stream",
     "text": [
      "                                                                                         \r"
     ]
    },
    {
     "name": "stdout",
     "output_type": "stream",
     "text": [
      "\n",
      "Epoch 81/200 (35.2s)\n",
      "  Train Loss: 0.0347\n",
      "  Val Loss: 0.2410 | Val Acc: 0.9208\n",
      "  Current LR: 0.000000\n"
     ]
    },
    {
     "name": "stderr",
     "output_type": "stream",
     "text": [
      "                                                                                         \r"
     ]
    },
    {
     "name": "stdout",
     "output_type": "stream",
     "text": [
      "\n",
      "Epoch 82/200 (34.9s)\n",
      "  Train Loss: 0.0330\n",
      "  Val Loss: 0.2325 | Val Acc: 0.9208\n",
      "  Current LR: 0.000000\n"
     ]
    },
    {
     "name": "stderr",
     "output_type": "stream",
     "text": [
      "                                                                                         \r"
     ]
    },
    {
     "name": "stdout",
     "output_type": "stream",
     "text": [
      "\n",
      "Epoch 83/200 (34.8s)\n",
      "  Train Loss: 0.0321\n",
      "  Val Loss: 0.2326 | Val Acc: 0.9208\n",
      "  Current LR: 0.000000\n"
     ]
    },
    {
     "name": "stderr",
     "output_type": "stream",
     "text": [
      "                                                                                        \r"
     ]
    },
    {
     "name": "stdout",
     "output_type": "stream",
     "text": [
      "\n",
      "Epoch 84/200 (34.9s)\n",
      "  Train Loss: 0.0340\n",
      "  Val Loss: 0.2429 | Val Acc: 0.9167\n",
      "  Current LR: 0.000000\n"
     ]
    },
    {
     "name": "stderr",
     "output_type": "stream",
     "text": [
      "                                                                                         \r"
     ]
    },
    {
     "name": "stdout",
     "output_type": "stream",
     "text": [
      "\n",
      "Epoch 85/200 (34.8s)\n",
      "  Train Loss: 0.0339\n",
      "  Val Loss: 0.2443 | Val Acc: 0.9250\n",
      "  Current LR: 0.000000\n"
     ]
    },
    {
     "name": "stderr",
     "output_type": "stream",
     "text": [
      "                                                                                         \r"
     ]
    },
    {
     "name": "stdout",
     "output_type": "stream",
     "text": [
      "\n",
      "Epoch 86/200 (34.8s)\n",
      "  Train Loss: 0.0364\n",
      "  Val Loss: 0.2363 | Val Acc: 0.9208\n",
      "  Current LR: 0.000000\n"
     ]
    },
    {
     "name": "stderr",
     "output_type": "stream",
     "text": [
      "                                                                                         \r"
     ]
    },
    {
     "name": "stdout",
     "output_type": "stream",
     "text": [
      "\n",
      "Epoch 87/200 (34.9s)\n",
      "  Train Loss: 0.0314\n",
      "  Val Loss: 0.2318 | Val Acc: 0.9208\n",
      "  Current LR: 0.000000\n"
     ]
    },
    {
     "name": "stderr",
     "output_type": "stream",
     "text": [
      "                                                                                         \r"
     ]
    },
    {
     "name": "stdout",
     "output_type": "stream",
     "text": [
      "\n",
      "Epoch 88/200 (34.8s)\n",
      "  Train Loss: 0.0359\n",
      "  Val Loss: 0.2424 | Val Acc: 0.9167\n",
      "  Current LR: 0.000000\n"
     ]
    },
    {
     "name": "stderr",
     "output_type": "stream",
     "text": [
      "                                                                                         \r"
     ]
    },
    {
     "name": "stdout",
     "output_type": "stream",
     "text": [
      "\n",
      "Epoch 89/200 (35.0s)\n",
      "  Train Loss: 0.0330\n",
      "  Val Loss: 0.2415 | Val Acc: 0.9208\n",
      "  Current LR: 0.000000\n"
     ]
    },
    {
     "name": "stderr",
     "output_type": "stream",
     "text": [
      "                                                                                         \r"
     ]
    },
    {
     "name": "stdout",
     "output_type": "stream",
     "text": [
      "\n",
      "Epoch 90/200 (34.9s)\n",
      "  Train Loss: 0.0348\n",
      "  Val Loss: 0.2368 | Val Acc: 0.9208\n",
      "  Current LR: 0.000000\n"
     ]
    },
    {
     "name": "stderr",
     "output_type": "stream",
     "text": [
      "                                                                                         \r"
     ]
    },
    {
     "name": "stdout",
     "output_type": "stream",
     "text": [
      "\n",
      "Epoch 91/200 (35.1s)\n",
      "  Train Loss: 0.0374\n",
      "  Val Loss: 0.2347 | Val Acc: 0.9208\n",
      "  Current LR: 0.000000\n"
     ]
    },
    {
     "name": "stderr",
     "output_type": "stream",
     "text": [
      "                                                                                         \r"
     ]
    },
    {
     "name": "stdout",
     "output_type": "stream",
     "text": [
      "\n",
      "Epoch 92/200 (35.3s)\n",
      "  Train Loss: 0.0352\n",
      "  Val Loss: 0.2402 | Val Acc: 0.9250\n",
      "  Current LR: 0.000000\n"
     ]
    },
    {
     "name": "stderr",
     "output_type": "stream",
     "text": [
      "                                                                                         \r"
     ]
    },
    {
     "name": "stdout",
     "output_type": "stream",
     "text": [
      "\n",
      "Epoch 93/200 (35.3s)\n",
      "  Train Loss: 0.0324\n",
      "  Val Loss: 0.2340 | Val Acc: 0.9208\n",
      "  Current LR: 0.000000\n"
     ]
    },
    {
     "name": "stderr",
     "output_type": "stream",
     "text": [
      "                                                                                         \r"
     ]
    },
    {
     "name": "stdout",
     "output_type": "stream",
     "text": [
      "\n",
      "Epoch 94/200 (35.4s)\n",
      "  Train Loss: 0.0368\n",
      "  Val Loss: 0.2284 | Val Acc: 0.9208\n",
      "  Current LR: 0.000000\n"
     ]
    },
    {
     "name": "stderr",
     "output_type": "stream",
     "text": [
      "                                                                                         \r"
     ]
    },
    {
     "name": "stdout",
     "output_type": "stream",
     "text": [
      "\n",
      "Epoch 95/200 (35.1s)\n",
      "  Train Loss: 0.0319\n",
      "  Val Loss: 0.2410 | Val Acc: 0.9208\n",
      "  Current LR: 0.000000\n"
     ]
    },
    {
     "name": "stderr",
     "output_type": "stream",
     "text": [
      "                                                                                         \r"
     ]
    },
    {
     "name": "stdout",
     "output_type": "stream",
     "text": [
      "\n",
      "Epoch 96/200 (34.9s)\n",
      "  Train Loss: 0.0377\n",
      "  Val Loss: 0.2364 | Val Acc: 0.9208\n",
      "  Current LR: 0.000000\n"
     ]
    },
    {
     "name": "stderr",
     "output_type": "stream",
     "text": [
      "                                                                                        \r"
     ]
    },
    {
     "name": "stdout",
     "output_type": "stream",
     "text": [
      "\n",
      "Epoch 97/200 (34.8s)\n",
      "  Train Loss: 0.0340\n",
      "  Val Loss: 0.2414 | Val Acc: 0.9167\n",
      "  Current LR: 0.000000\n"
     ]
    },
    {
     "name": "stderr",
     "output_type": "stream",
     "text": [
      "                                                                                         \r"
     ]
    },
    {
     "name": "stdout",
     "output_type": "stream",
     "text": [
      "\n",
      "Epoch 98/200 (34.7s)\n",
      "  Train Loss: 0.0329\n",
      "  Val Loss: 0.2329 | Val Acc: 0.9208\n",
      "  Current LR: 0.000000\n"
     ]
    },
    {
     "name": "stderr",
     "output_type": "stream",
     "text": [
      "                                                                                        \r"
     ]
    },
    {
     "name": "stdout",
     "output_type": "stream",
     "text": [
      "\n",
      "Epoch 99/200 (34.9s)\n",
      "  Train Loss: 0.0349\n",
      "  Val Loss: 0.2373 | Val Acc: 0.9167\n",
      "  Current LR: 0.000000\n"
     ]
    },
    {
     "name": "stderr",
     "output_type": "stream",
     "text": [
      "                                                                                          \r"
     ]
    },
    {
     "name": "stdout",
     "output_type": "stream",
     "text": [
      "\n",
      "Epoch 100/200 (35.0s)\n",
      "  Train Loss: 0.0314\n",
      "  Val Loss: 0.2231 | Val Acc: 0.9250\n",
      "  Current LR: 0.000000\n"
     ]
    },
    {
     "name": "stderr",
     "output_type": "stream",
     "text": [
      "                                                                                          \r"
     ]
    },
    {
     "name": "stdout",
     "output_type": "stream",
     "text": [
      "\n",
      "Epoch 101/200 (35.4s)\n",
      "  Train Loss: 0.0314\n",
      "  Val Loss: 0.2351 | Val Acc: 0.9208\n",
      "  Current LR: 0.000000\n"
     ]
    },
    {
     "name": "stderr",
     "output_type": "stream",
     "text": [
      "                                                                                          \r"
     ]
    },
    {
     "name": "stdout",
     "output_type": "stream",
     "text": [
      "\n",
      "Epoch 102/200 (35.4s)\n",
      "  Train Loss: 0.0334\n",
      "  Val Loss: 0.2348 | Val Acc: 0.9208\n",
      "  Current LR: 0.000000\n"
     ]
    },
    {
     "name": "stderr",
     "output_type": "stream",
     "text": [
      "                                                                                         \r"
     ]
    },
    {
     "name": "stdout",
     "output_type": "stream",
     "text": [
      "\n",
      "Epoch 103/200 (35.3s)\n",
      "  Train Loss: 0.0350\n",
      "  Val Loss: 0.2404 | Val Acc: 0.9208\n",
      "  Current LR: 0.000000\n"
     ]
    },
    {
     "name": "stderr",
     "output_type": "stream",
     "text": [
      "                                                                                          \r"
     ]
    },
    {
     "name": "stdout",
     "output_type": "stream",
     "text": [
      "\n",
      "Epoch 104/200 (35.2s)\n",
      "  Train Loss: 0.0324\n",
      "  Val Loss: 0.2311 | Val Acc: 0.9250\n",
      "  Current LR: 0.000000\n"
     ]
    },
    {
     "name": "stderr",
     "output_type": "stream",
     "text": [
      "                                                                                          \r"
     ]
    },
    {
     "name": "stdout",
     "output_type": "stream",
     "text": [
      "\n",
      "Epoch 105/200 (35.0s)\n",
      "  Train Loss: 0.0309\n",
      "  Val Loss: 0.2388 | Val Acc: 0.9250\n",
      "  Current LR: 0.000000\n"
     ]
    },
    {
     "name": "stderr",
     "output_type": "stream",
     "text": [
      "                                                                                          \r"
     ]
    },
    {
     "name": "stdout",
     "output_type": "stream",
     "text": [
      "\n",
      "Epoch 106/200 (34.7s)\n",
      "  Train Loss: 0.0342\n",
      "  Val Loss: 0.2319 | Val Acc: 0.9250\n",
      "  Current LR: 0.000000\n"
     ]
    },
    {
     "name": "stderr",
     "output_type": "stream",
     "text": [
      "                                                                                          \r"
     ]
    },
    {
     "name": "stdout",
     "output_type": "stream",
     "text": [
      "\n",
      "Epoch 107/200 (34.9s)\n",
      "  Train Loss: 0.0317\n",
      "  Val Loss: 0.2306 | Val Acc: 0.9167\n",
      "  Current LR: 0.000000\n"
     ]
    },
    {
     "name": "stderr",
     "output_type": "stream",
     "text": [
      "                                                                                          \r"
     ]
    },
    {
     "name": "stdout",
     "output_type": "stream",
     "text": [
      "\n",
      "Epoch 108/200 (34.7s)\n",
      "  Train Loss: 0.0331\n",
      "  Val Loss: 0.2274 | Val Acc: 0.9208\n",
      "  Current LR: 0.000000\n"
     ]
    },
    {
     "name": "stderr",
     "output_type": "stream",
     "text": [
      "                                                                                          \r"
     ]
    },
    {
     "name": "stdout",
     "output_type": "stream",
     "text": [
      "\n",
      "Epoch 109/200 (34.8s)\n",
      "  Train Loss: 0.0314\n",
      "  Val Loss: 0.2299 | Val Acc: 0.9208\n",
      "  Current LR: 0.000000\n"
     ]
    },
    {
     "name": "stderr",
     "output_type": "stream",
     "text": [
      "                                                                                          \r"
     ]
    },
    {
     "name": "stdout",
     "output_type": "stream",
     "text": [
      "\n",
      "Epoch 110/200 (34.9s)\n",
      "  Train Loss: 0.0345\n",
      "  Val Loss: 0.2420 | Val Acc: 0.9208\n",
      "  Current LR: 0.000000\n"
     ]
    },
    {
     "name": "stderr",
     "output_type": "stream",
     "text": [
      "                                                                                          \r"
     ]
    },
    {
     "name": "stdout",
     "output_type": "stream",
     "text": [
      "\n",
      "Epoch 111/200 (34.8s)\n",
      "  Train Loss: 0.0344\n",
      "  Val Loss: 0.2399 | Val Acc: 0.9208\n",
      "  Current LR: 0.000000\n"
     ]
    },
    {
     "name": "stderr",
     "output_type": "stream",
     "text": [
      "                                                                                         \r"
     ]
    },
    {
     "name": "stdout",
     "output_type": "stream",
     "text": [
      "\n",
      "Epoch 112/200 (34.7s)\n",
      "  Train Loss: 0.0327\n",
      "  Val Loss: 0.2391 | Val Acc: 0.9208\n",
      "  Current LR: 0.000000\n"
     ]
    },
    {
     "name": "stderr",
     "output_type": "stream",
     "text": [
      "                                                                                         \r"
     ]
    },
    {
     "name": "stdout",
     "output_type": "stream",
     "text": [
      "\n",
      "Epoch 113/200 (35.0s)\n",
      "  Train Loss: 0.0344\n",
      "  Val Loss: 0.2394 | Val Acc: 0.9167\n",
      "  Current LR: 0.000000\n"
     ]
    },
    {
     "name": "stderr",
     "output_type": "stream",
     "text": [
      "                                                                                         \r"
     ]
    },
    {
     "name": "stdout",
     "output_type": "stream",
     "text": [
      "\n",
      "Epoch 114/200 (35.0s)\n",
      "  Train Loss: 0.0342\n",
      "  Val Loss: 0.2275 | Val Acc: 0.9208\n",
      "  Current LR: 0.000000\n"
     ]
    },
    {
     "name": "stderr",
     "output_type": "stream",
     "text": [
      "                                                                                          \r"
     ]
    },
    {
     "name": "stdout",
     "output_type": "stream",
     "text": [
      "\n",
      "Epoch 115/200 (35.2s)\n",
      "  Train Loss: 0.0344\n",
      "  Val Loss: 0.2389 | Val Acc: 0.9167\n",
      "  Current LR: 0.000000\n"
     ]
    },
    {
     "name": "stderr",
     "output_type": "stream",
     "text": [
      "                                                                                          \r"
     ]
    },
    {
     "name": "stdout",
     "output_type": "stream",
     "text": [
      "\n",
      "Epoch 116/200 (35.4s)\n",
      "  Train Loss: 0.0352\n",
      "  Val Loss: 0.2331 | Val Acc: 0.9208\n",
      "  Current LR: 0.000000\n"
     ]
    },
    {
     "name": "stderr",
     "output_type": "stream",
     "text": [
      "                                                                                          \r"
     ]
    },
    {
     "name": "stdout",
     "output_type": "stream",
     "text": [
      "\n",
      "Epoch 117/200 (35.4s)\n",
      "  Train Loss: 0.0350\n",
      "  Val Loss: 0.2432 | Val Acc: 0.9250\n",
      "  Current LR: 0.000000\n"
     ]
    },
    {
     "name": "stderr",
     "output_type": "stream",
     "text": [
      "                                                                                          \r"
     ]
    },
    {
     "name": "stdout",
     "output_type": "stream",
     "text": [
      "\n",
      "Epoch 118/200 (35.3s)\n",
      "  Train Loss: 0.0342\n",
      "  Val Loss: 0.2425 | Val Acc: 0.9208\n",
      "  Current LR: 0.000000\n"
     ]
    },
    {
     "name": "stderr",
     "output_type": "stream",
     "text": [
      "                                                                                         \r"
     ]
    },
    {
     "name": "stdout",
     "output_type": "stream",
     "text": [
      "\n",
      "Epoch 119/200 (35.2s)\n",
      "  Train Loss: 0.0321\n",
      "  Val Loss: 0.2326 | Val Acc: 0.9167\n",
      "  Current LR: 0.000000\n"
     ]
    },
    {
     "name": "stderr",
     "output_type": "stream",
     "text": [
      "                                                                                         \r"
     ]
    },
    {
     "name": "stdout",
     "output_type": "stream",
     "text": [
      "\n",
      "Epoch 120/200 (34.9s)\n",
      "  Train Loss: 0.0329\n",
      "  Val Loss: 0.2313 | Val Acc: 0.9208\n",
      "  Current LR: 0.000000\n"
     ]
    },
    {
     "name": "stderr",
     "output_type": "stream",
     "text": [
      "                                                                                         \r"
     ]
    },
    {
     "name": "stdout",
     "output_type": "stream",
     "text": [
      "\n",
      "Epoch 121/200 (34.8s)\n",
      "  Train Loss: 0.0348\n",
      "  Val Loss: 0.2268 | Val Acc: 0.9208\n",
      "  Current LR: 0.000000\n"
     ]
    },
    {
     "name": "stderr",
     "output_type": "stream",
     "text": [
      "                                                                                          \r"
     ]
    },
    {
     "name": "stdout",
     "output_type": "stream",
     "text": [
      "\n",
      "Epoch 122/200 (34.8s)\n",
      "  Train Loss: 0.0306\n",
      "  Val Loss: 0.2247 | Val Acc: 0.9250\n",
      "  Current LR: 0.000000\n"
     ]
    },
    {
     "name": "stderr",
     "output_type": "stream",
     "text": [
      "                                                                                          \r"
     ]
    },
    {
     "name": "stdout",
     "output_type": "stream",
     "text": [
      "\n",
      "Epoch 123/200 (35.0s)\n",
      "  Train Loss: 0.0333\n",
      "  Val Loss: 0.2340 | Val Acc: 0.9208\n",
      "  Current LR: 0.000000\n"
     ]
    },
    {
     "name": "stderr",
     "output_type": "stream",
     "text": [
      "                                                                                          \r"
     ]
    },
    {
     "name": "stdout",
     "output_type": "stream",
     "text": [
      "\n",
      "Epoch 124/200 (34.8s)\n",
      "  Train Loss: 0.0300\n",
      "  Val Loss: 0.2375 | Val Acc: 0.9250\n",
      "  Current LR: 0.000000\n"
     ]
    },
    {
     "name": "stderr",
     "output_type": "stream",
     "text": [
      "                                                                                         \r"
     ]
    },
    {
     "name": "stdout",
     "output_type": "stream",
     "text": [
      "\n",
      "Epoch 125/200 (34.4s)\n",
      "  Train Loss: 0.0316\n",
      "  Val Loss: 0.2520 | Val Acc: 0.9167\n",
      "  Current LR: 0.000000\n"
     ]
    },
    {
     "name": "stderr",
     "output_type": "stream",
     "text": [
      "                                                                                          \r"
     ]
    },
    {
     "name": "stdout",
     "output_type": "stream",
     "text": [
      "\n",
      "Epoch 126/200 (34.5s)\n",
      "  Train Loss: 0.0335\n",
      "  Val Loss: 0.2376 | Val Acc: 0.9208\n",
      "  Current LR: 0.000000\n"
     ]
    },
    {
     "name": "stderr",
     "output_type": "stream",
     "text": [
      "                                                                                          \r"
     ]
    },
    {
     "name": "stdout",
     "output_type": "stream",
     "text": [
      "\n",
      "Epoch 127/200 (34.9s)\n",
      "  Train Loss: 0.0336\n",
      "  Val Loss: 0.2384 | Val Acc: 0.9250\n",
      "  Current LR: 0.000000\n"
     ]
    },
    {
     "name": "stderr",
     "output_type": "stream",
     "text": [
      "                                                                                          \r"
     ]
    },
    {
     "name": "stdout",
     "output_type": "stream",
     "text": [
      "\n",
      "Epoch 128/200 (35.0s)\n",
      "  Train Loss: 0.0359\n",
      "  Val Loss: 0.2348 | Val Acc: 0.9208\n",
      "  Current LR: 0.000000\n"
     ]
    },
    {
     "name": "stderr",
     "output_type": "stream",
     "text": [
      "                                                                                         \r"
     ]
    },
    {
     "name": "stdout",
     "output_type": "stream",
     "text": [
      "\n",
      "Epoch 129/200 (35.3s)\n",
      "  Train Loss: 0.0336\n",
      "  Val Loss: 0.2364 | Val Acc: 0.9250\n",
      "  Current LR: 0.000000\n"
     ]
    },
    {
     "name": "stderr",
     "output_type": "stream",
     "text": [
      "                                                                                          \r"
     ]
    },
    {
     "name": "stdout",
     "output_type": "stream",
     "text": [
      "\n",
      "Epoch 130/200 (34.5s)\n",
      "  Train Loss: 0.0341\n",
      "  Val Loss: 0.2327 | Val Acc: 0.9208\n",
      "  Current LR: 0.000000\n"
     ]
    },
    {
     "name": "stderr",
     "output_type": "stream",
     "text": [
      "                                                                                          \r"
     ]
    },
    {
     "name": "stdout",
     "output_type": "stream",
     "text": [
      "\n",
      "Epoch 131/200 (34.5s)\n",
      "  Train Loss: 0.0336\n",
      "  Val Loss: 0.2385 | Val Acc: 0.9208\n",
      "  Current LR: 0.000000\n"
     ]
    },
    {
     "name": "stderr",
     "output_type": "stream",
     "text": [
      "                                                                                          \r"
     ]
    },
    {
     "name": "stdout",
     "output_type": "stream",
     "text": [
      "\n",
      "Epoch 132/200 (35.7s)\n",
      "  Train Loss: 0.0345\n",
      "  Val Loss: 0.2418 | Val Acc: 0.9167\n",
      "  Current LR: 0.000000\n"
     ]
    },
    {
     "name": "stderr",
     "output_type": "stream",
     "text": [
      "                                                                                          \r"
     ]
    },
    {
     "name": "stdout",
     "output_type": "stream",
     "text": [
      "\n",
      "Epoch 133/200 (36.5s)\n",
      "  Train Loss: 0.0348\n",
      "  Val Loss: 0.2346 | Val Acc: 0.9250\n",
      "  Current LR: 0.000000\n"
     ]
    },
    {
     "name": "stderr",
     "output_type": "stream",
     "text": [
      "                                                                                          \r"
     ]
    },
    {
     "name": "stdout",
     "output_type": "stream",
     "text": [
      "\n",
      "Epoch 134/200 (35.9s)\n",
      "  Train Loss: 0.0318\n",
      "  Val Loss: 0.2396 | Val Acc: 0.9167\n",
      "  Current LR: 0.000000\n"
     ]
    },
    {
     "name": "stderr",
     "output_type": "stream",
     "text": [
      "                                                                                          \r"
     ]
    },
    {
     "name": "stdout",
     "output_type": "stream",
     "text": [
      "\n",
      "Epoch 135/200 (35.8s)\n",
      "  Train Loss: 0.0324\n",
      "  Val Loss: 0.2282 | Val Acc: 0.9250\n",
      "  Current LR: 0.000000\n"
     ]
    },
    {
     "name": "stderr",
     "output_type": "stream",
     "text": [
      "                                                                                         \r"
     ]
    },
    {
     "name": "stdout",
     "output_type": "stream",
     "text": [
      "\n",
      "Epoch 136/200 (35.9s)\n",
      "  Train Loss: 0.0370\n",
      "  Val Loss: 0.2349 | Val Acc: 0.9208\n",
      "  Current LR: 0.000000\n"
     ]
    },
    {
     "name": "stderr",
     "output_type": "stream",
     "text": [
      "                                                                                          \r"
     ]
    },
    {
     "name": "stdout",
     "output_type": "stream",
     "text": [
      "\n",
      "Epoch 137/200 (35.3s)\n",
      "  Train Loss: 0.0355\n",
      "  Val Loss: 0.2345 | Val Acc: 0.9208\n",
      "  Current LR: 0.000000\n"
     ]
    },
    {
     "name": "stderr",
     "output_type": "stream",
     "text": [
      "                                                                                         \r"
     ]
    },
    {
     "name": "stdout",
     "output_type": "stream",
     "text": [
      "\n",
      "Epoch 138/200 (35.2s)\n",
      "  Train Loss: 0.0335\n",
      "  Val Loss: 0.2339 | Val Acc: 0.9208\n",
      "  Current LR: 0.000000\n"
     ]
    },
    {
     "name": "stderr",
     "output_type": "stream",
     "text": [
      "                                                                                          \r"
     ]
    },
    {
     "name": "stdout",
     "output_type": "stream",
     "text": [
      "\n",
      "Epoch 139/200 (35.5s)\n",
      "  Train Loss: 0.0347\n",
      "  Val Loss: 0.2410 | Val Acc: 0.9208\n",
      "  Current LR: 0.000000\n"
     ]
    },
    {
     "name": "stderr",
     "output_type": "stream",
     "text": [
      "                                                                                          \r"
     ]
    },
    {
     "name": "stdout",
     "output_type": "stream",
     "text": [
      "\n",
      "Epoch 140/200 (35.7s)\n",
      "  Train Loss: 0.0329\n",
      "  Val Loss: 0.2376 | Val Acc: 0.9208\n",
      "  Current LR: 0.000000\n"
     ]
    },
    {
     "name": "stderr",
     "output_type": "stream",
     "text": [
      "                                                                                          \r"
     ]
    },
    {
     "name": "stdout",
     "output_type": "stream",
     "text": [
      "\n",
      "Epoch 141/200 (35.1s)\n",
      "  Train Loss: 0.0335\n",
      "  Val Loss: 0.2399 | Val Acc: 0.9250\n",
      "  Current LR: 0.000000\n"
     ]
    },
    {
     "name": "stderr",
     "output_type": "stream",
     "text": [
      "                                                                                          \r"
     ]
    },
    {
     "name": "stdout",
     "output_type": "stream",
     "text": [
      "\n",
      "Epoch 142/200 (35.2s)\n",
      "  Train Loss: 0.0316\n",
      "  Val Loss: 0.2362 | Val Acc: 0.9208\n",
      "  Current LR: 0.000000\n"
     ]
    },
    {
     "name": "stderr",
     "output_type": "stream",
     "text": [
      "                                                                                          \r"
     ]
    },
    {
     "name": "stdout",
     "output_type": "stream",
     "text": [
      "\n",
      "Epoch 143/200 (35.0s)\n",
      "  Train Loss: 0.0341\n",
      "  Val Loss: 0.2256 | Val Acc: 0.9292\n",
      "  Current LR: 0.000000\n"
     ]
    },
    {
     "name": "stderr",
     "output_type": "stream",
     "text": [
      "                                                                                          \r"
     ]
    },
    {
     "name": "stdout",
     "output_type": "stream",
     "text": [
      "\n",
      "Epoch 144/200 (34.8s)\n",
      "  Train Loss: 0.0340\n",
      "  Val Loss: 0.2332 | Val Acc: 0.9250\n",
      "  Current LR: 0.000000\n"
     ]
    },
    {
     "name": "stderr",
     "output_type": "stream",
     "text": [
      "                                                                                         \r"
     ]
    },
    {
     "name": "stdout",
     "output_type": "stream",
     "text": [
      "\n",
      "Epoch 145/200 (31.0s)\n",
      "  Train Loss: 0.0331\n",
      "  Val Loss: 0.2336 | Val Acc: 0.9167\n",
      "  Current LR: 0.000000\n"
     ]
    },
    {
     "name": "stderr",
     "output_type": "stream",
     "text": [
      "                                                                                          \r"
     ]
    },
    {
     "name": "stdout",
     "output_type": "stream",
     "text": [
      "\n",
      "Epoch 146/200 (31.1s)\n",
      "  Train Loss: 0.0325\n",
      "  Val Loss: 0.2341 | Val Acc: 0.9250\n",
      "  Current LR: 0.000000\n"
     ]
    },
    {
     "name": "stderr",
     "output_type": "stream",
     "text": [
      "                                                                                          \r"
     ]
    },
    {
     "name": "stdout",
     "output_type": "stream",
     "text": [
      "\n",
      "Epoch 147/200 (35.8s)\n",
      "  Train Loss: 0.0316\n",
      "  Val Loss: 0.2328 | Val Acc: 0.9208\n",
      "  Current LR: 0.000000\n"
     ]
    },
    {
     "name": "stderr",
     "output_type": "stream",
     "text": [
      "                                                                                          \r"
     ]
    },
    {
     "name": "stdout",
     "output_type": "stream",
     "text": [
      "\n",
      "Epoch 148/200 (35.9s)\n",
      "  Train Loss: 0.0330\n",
      "  Val Loss: 0.2353 | Val Acc: 0.9167\n",
      "  Current LR: 0.000000\n"
     ]
    },
    {
     "name": "stderr",
     "output_type": "stream",
     "text": [
      "                                                                                          \r"
     ]
    },
    {
     "name": "stdout",
     "output_type": "stream",
     "text": [
      "\n",
      "Epoch 149/200 (35.9s)\n",
      "  Train Loss: 0.0329\n",
      "  Val Loss: 0.2474 | Val Acc: 0.9167\n",
      "  Current LR: 0.000000\n"
     ]
    },
    {
     "name": "stderr",
     "output_type": "stream",
     "text": [
      "                                                                                         \r"
     ]
    },
    {
     "name": "stdout",
     "output_type": "stream",
     "text": [
      "\n",
      "Epoch 150/200 (35.9s)\n",
      "  Train Loss: 0.0331\n",
      "  Val Loss: 0.2396 | Val Acc: 0.9208\n",
      "  Current LR: 0.000000\n"
     ]
    },
    {
     "name": "stderr",
     "output_type": "stream",
     "text": [
      "                                                                                          \r"
     ]
    },
    {
     "name": "stdout",
     "output_type": "stream",
     "text": [
      "\n",
      "Epoch 151/200 (35.9s)\n",
      "  Train Loss: 0.0352\n",
      "  Val Loss: 0.2401 | Val Acc: 0.9208\n",
      "  Current LR: 0.000000\n"
     ]
    },
    {
     "name": "stderr",
     "output_type": "stream",
     "text": [
      "                                                                                          \r"
     ]
    },
    {
     "name": "stdout",
     "output_type": "stream",
     "text": [
      "\n",
      "Epoch 152/200 (35.9s)\n",
      "  Train Loss: 0.0343\n",
      "  Val Loss: 0.2464 | Val Acc: 0.9167\n",
      "  Current LR: 0.000000\n"
     ]
    },
    {
     "name": "stderr",
     "output_type": "stream",
     "text": [
      "                                                                                          \r"
     ]
    },
    {
     "name": "stdout",
     "output_type": "stream",
     "text": [
      "\n",
      "Epoch 153/200 (35.4s)\n",
      "  Train Loss: 0.0361\n",
      "  Val Loss: 0.2332 | Val Acc: 0.9208\n",
      "  Current LR: 0.000000\n"
     ]
    },
    {
     "name": "stderr",
     "output_type": "stream",
     "text": [
      "                                                                                          \r"
     ]
    },
    {
     "name": "stdout",
     "output_type": "stream",
     "text": [
      "\n",
      "Epoch 154/200 (35.5s)\n",
      "  Train Loss: 0.0329\n",
      "  Val Loss: 0.2360 | Val Acc: 0.9208\n",
      "  Current LR: 0.000000\n"
     ]
    },
    {
     "name": "stderr",
     "output_type": "stream",
     "text": [
      "                                                                                         \r"
     ]
    },
    {
     "name": "stdout",
     "output_type": "stream",
     "text": [
      "\n",
      "Epoch 155/200 (35.5s)\n",
      "  Train Loss: 0.0340\n",
      "  Val Loss: 0.2364 | Val Acc: 0.9208\n",
      "  Current LR: 0.000000\n"
     ]
    },
    {
     "name": "stderr",
     "output_type": "stream",
     "text": [
      "                                                                                          \r"
     ]
    },
    {
     "name": "stdout",
     "output_type": "stream",
     "text": [
      "\n",
      "Epoch 156/200 (35.5s)\n",
      "  Train Loss: 0.0343\n",
      "  Val Loss: 0.2397 | Val Acc: 0.9208\n",
      "  Current LR: 0.000000\n"
     ]
    },
    {
     "name": "stderr",
     "output_type": "stream",
     "text": [
      "                                                                                          \r"
     ]
    },
    {
     "name": "stdout",
     "output_type": "stream",
     "text": [
      "\n",
      "Epoch 157/200 (35.7s)\n",
      "  Train Loss: 0.0309\n",
      "  Val Loss: 0.2424 | Val Acc: 0.9167\n",
      "  Current LR: 0.000000\n"
     ]
    },
    {
     "name": "stderr",
     "output_type": "stream",
     "text": [
      "                                                                                          \r"
     ]
    },
    {
     "name": "stdout",
     "output_type": "stream",
     "text": [
      "\n",
      "Epoch 158/200 (35.7s)\n",
      "  Train Loss: 0.0326\n",
      "  Val Loss: 0.2361 | Val Acc: 0.9250\n",
      "  Current LR: 0.000000\n"
     ]
    },
    {
     "name": "stderr",
     "output_type": "stream",
     "text": [
      "                                                                                          \r"
     ]
    },
    {
     "name": "stdout",
     "output_type": "stream",
     "text": [
      "\n",
      "Epoch 159/200 (35.6s)\n",
      "  Train Loss: 0.0341\n",
      "  Val Loss: 0.2339 | Val Acc: 0.9208\n",
      "  Current LR: 0.000000\n"
     ]
    },
    {
     "name": "stderr",
     "output_type": "stream",
     "text": [
      "                                                                                          \r"
     ]
    },
    {
     "name": "stdout",
     "output_type": "stream",
     "text": [
      "\n",
      "Epoch 160/200 (35.7s)\n",
      "  Train Loss: 0.0324\n",
      "  Val Loss: 0.2378 | Val Acc: 0.9167\n",
      "  Current LR: 0.000000\n"
     ]
    },
    {
     "name": "stderr",
     "output_type": "stream",
     "text": [
      "                                                                                          \r"
     ]
    },
    {
     "name": "stdout",
     "output_type": "stream",
     "text": [
      "\n",
      "Epoch 161/200 (35.8s)\n",
      "  Train Loss: 0.0338\n",
      "  Val Loss: 0.2385 | Val Acc: 0.9208\n",
      "  Current LR: 0.000000\n"
     ]
    },
    {
     "name": "stderr",
     "output_type": "stream",
     "text": [
      "                                                                                          \r"
     ]
    },
    {
     "name": "stdout",
     "output_type": "stream",
     "text": [
      "\n",
      "Epoch 162/200 (35.3s)\n",
      "  Train Loss: 0.0336\n",
      "  Val Loss: 0.2343 | Val Acc: 0.9208\n",
      "  Current LR: 0.000000\n"
     ]
    },
    {
     "name": "stderr",
     "output_type": "stream",
     "text": [
      "                                                                                         \r"
     ]
    },
    {
     "name": "stdout",
     "output_type": "stream",
     "text": [
      "\n",
      "Epoch 163/200 (35.8s)\n",
      "  Train Loss: 0.0356\n",
      "  Val Loss: 0.2349 | Val Acc: 0.9208\n",
      "  Current LR: 0.000000\n"
     ]
    },
    {
     "name": "stderr",
     "output_type": "stream",
     "text": [
      "                                                                                          \r"
     ]
    },
    {
     "name": "stdout",
     "output_type": "stream",
     "text": [
      "\n",
      "Epoch 164/200 (35.8s)\n",
      "  Train Loss: 0.0327\n",
      "  Val Loss: 0.2335 | Val Acc: 0.9250\n",
      "  Current LR: 0.000000\n"
     ]
    },
    {
     "name": "stderr",
     "output_type": "stream",
     "text": [
      "                                                                                          \r"
     ]
    },
    {
     "name": "stdout",
     "output_type": "stream",
     "text": [
      "\n",
      "Epoch 165/200 (35.8s)\n",
      "  Train Loss: 0.0339\n",
      "  Val Loss: 0.2368 | Val Acc: 0.9208\n",
      "  Current LR: 0.000000\n"
     ]
    },
    {
     "name": "stderr",
     "output_type": "stream",
     "text": [
      "                                                                                          \r"
     ]
    },
    {
     "name": "stdout",
     "output_type": "stream",
     "text": [
      "\n",
      "Epoch 166/200 (35.8s)\n",
      "  Train Loss: 0.0335\n",
      "  Val Loss: 0.2334 | Val Acc: 0.9208\n",
      "  Current LR: 0.000000\n"
     ]
    },
    {
     "name": "stderr",
     "output_type": "stream",
     "text": [
      "                                                                                          \r"
     ]
    },
    {
     "name": "stdout",
     "output_type": "stream",
     "text": [
      "\n",
      "Epoch 167/200 (35.7s)\n",
      "  Train Loss: 0.0330\n",
      "  Val Loss: 0.2343 | Val Acc: 0.9250\n",
      "  Current LR: 0.000000\n"
     ]
    },
    {
     "name": "stderr",
     "output_type": "stream",
     "text": [
      "                                                                                          \r"
     ]
    },
    {
     "name": "stdout",
     "output_type": "stream",
     "text": [
      "\n",
      "Epoch 168/200 (35.6s)\n",
      "  Train Loss: 0.0323\n",
      "  Val Loss: 0.2360 | Val Acc: 0.9167\n",
      "  Current LR: 0.000000\n"
     ]
    },
    {
     "name": "stderr",
     "output_type": "stream",
     "text": [
      "                                                                                         \r"
     ]
    },
    {
     "name": "stdout",
     "output_type": "stream",
     "text": [
      "\n",
      "Epoch 169/200 (36.0s)\n",
      "  Train Loss: 0.0338\n",
      "  Val Loss: 0.2396 | Val Acc: 0.9208\n",
      "  Current LR: 0.000000\n"
     ]
    },
    {
     "name": "stderr",
     "output_type": "stream",
     "text": [
      "                                                                                          \r"
     ]
    },
    {
     "name": "stdout",
     "output_type": "stream",
     "text": [
      "\n",
      "Epoch 170/200 (35.8s)\n",
      "  Train Loss: 0.0336\n",
      "  Val Loss: 0.2361 | Val Acc: 0.9250\n",
      "  Current LR: 0.000000\n"
     ]
    },
    {
     "name": "stderr",
     "output_type": "stream",
     "text": [
      "                                                                                         \r"
     ]
    },
    {
     "name": "stdout",
     "output_type": "stream",
     "text": [
      "\n",
      "Epoch 171/200 (35.8s)\n",
      "  Train Loss: 0.0332\n",
      "  Val Loss: 0.2407 | Val Acc: 0.9208\n",
      "  Current LR: 0.000000\n"
     ]
    },
    {
     "name": "stderr",
     "output_type": "stream",
     "text": [
      "                                                                                          \r"
     ]
    },
    {
     "name": "stdout",
     "output_type": "stream",
     "text": [
      "\n",
      "Epoch 172/200 (35.9s)\n",
      "  Train Loss: 0.0338\n",
      "  Val Loss: 0.2353 | Val Acc: 0.9208\n",
      "  Current LR: 0.000000\n"
     ]
    },
    {
     "name": "stderr",
     "output_type": "stream",
     "text": [
      "                                                                                         \r"
     ]
    },
    {
     "name": "stdout",
     "output_type": "stream",
     "text": [
      "\n",
      "Epoch 173/200 (36.0s)\n",
      "  Train Loss: 0.0323\n",
      "  Val Loss: 0.2360 | Val Acc: 0.9167\n",
      "  Current LR: 0.000000\n"
     ]
    },
    {
     "name": "stderr",
     "output_type": "stream",
     "text": [
      "                                                                                          \r"
     ]
    },
    {
     "name": "stdout",
     "output_type": "stream",
     "text": [
      "\n",
      "Epoch 174/200 (35.9s)\n",
      "  Train Loss: 0.0344\n",
      "  Val Loss: 0.2370 | Val Acc: 0.9250\n",
      "  Current LR: 0.000000\n"
     ]
    },
    {
     "name": "stderr",
     "output_type": "stream",
     "text": [
      "                                                                                          \r"
     ]
    },
    {
     "name": "stdout",
     "output_type": "stream",
     "text": [
      "\n",
      "Epoch 175/200 (35.8s)\n",
      "  Train Loss: 0.0320\n",
      "  Val Loss: 0.2370 | Val Acc: 0.9208\n",
      "  Current LR: 0.000000\n"
     ]
    },
    {
     "name": "stderr",
     "output_type": "stream",
     "text": [
      "                                                                                         \r"
     ]
    },
    {
     "name": "stdout",
     "output_type": "stream",
     "text": [
      "\n",
      "Epoch 176/200 (35.7s)\n",
      "  Train Loss: 0.0335\n",
      "  Val Loss: 0.2397 | Val Acc: 0.9167\n",
      "  Current LR: 0.000000\n"
     ]
    },
    {
     "name": "stderr",
     "output_type": "stream",
     "text": [
      "                                                                                          \r"
     ]
    },
    {
     "name": "stdout",
     "output_type": "stream",
     "text": [
      "\n",
      "Epoch 177/200 (35.7s)\n",
      "  Train Loss: 0.0361\n",
      "  Val Loss: 0.2389 | Val Acc: 0.9125\n",
      "  Current LR: 0.000000\n"
     ]
    },
    {
     "name": "stderr",
     "output_type": "stream",
     "text": [
      "                                                                                          \r"
     ]
    },
    {
     "name": "stdout",
     "output_type": "stream",
     "text": [
      "\n",
      "Epoch 178/200 (35.5s)\n",
      "  Train Loss: 0.0335\n",
      "  Val Loss: 0.2339 | Val Acc: 0.9250\n",
      "  Current LR: 0.000000\n"
     ]
    },
    {
     "name": "stderr",
     "output_type": "stream",
     "text": [
      "                                                                                          \r"
     ]
    },
    {
     "name": "stdout",
     "output_type": "stream",
     "text": [
      "\n",
      "Epoch 179/200 (35.9s)\n",
      "  Train Loss: 0.0333\n",
      "  Val Loss: 0.2351 | Val Acc: 0.9208\n",
      "  Current LR: 0.000000\n"
     ]
    },
    {
     "name": "stderr",
     "output_type": "stream",
     "text": [
      "                                                                                          \r"
     ]
    },
    {
     "name": "stdout",
     "output_type": "stream",
     "text": [
      "\n",
      "Epoch 180/200 (35.9s)\n",
      "  Train Loss: 0.0352\n",
      "  Val Loss: 0.2395 | Val Acc: 0.9167\n",
      "  Current LR: 0.000000\n"
     ]
    },
    {
     "name": "stderr",
     "output_type": "stream",
     "text": [
      "                                                                                          \r"
     ]
    },
    {
     "name": "stdout",
     "output_type": "stream",
     "text": [
      "\n",
      "Epoch 181/200 (35.8s)\n",
      "  Train Loss: 0.0341\n",
      "  Val Loss: 0.2420 | Val Acc: 0.9125\n",
      "  Current LR: 0.000000\n"
     ]
    },
    {
     "name": "stderr",
     "output_type": "stream",
     "text": [
      "                                                                                          \r"
     ]
    },
    {
     "name": "stdout",
     "output_type": "stream",
     "text": [
      "\n",
      "Epoch 182/200 (35.9s)\n",
      "  Train Loss: 0.0334\n",
      "  Val Loss: 0.2382 | Val Acc: 0.9208\n",
      "  Current LR: 0.000000\n"
     ]
    },
    {
     "name": "stderr",
     "output_type": "stream",
     "text": [
      "                                                                                          \r"
     ]
    },
    {
     "name": "stdout",
     "output_type": "stream",
     "text": [
      "\n",
      "Epoch 183/200 (35.9s)\n",
      "  Train Loss: 0.0317\n",
      "  Val Loss: 0.2382 | Val Acc: 0.9167\n",
      "  Current LR: 0.000000\n"
     ]
    },
    {
     "name": "stderr",
     "output_type": "stream",
     "text": [
      "                                                                                          \r"
     ]
    },
    {
     "name": "stdout",
     "output_type": "stream",
     "text": [
      "\n",
      "Epoch 184/200 (35.8s)\n",
      "  Train Loss: 0.0354\n",
      "  Val Loss: 0.2325 | Val Acc: 0.9250\n",
      "  Current LR: 0.000000\n"
     ]
    },
    {
     "name": "stderr",
     "output_type": "stream",
     "text": [
      "                                                                                          \r"
     ]
    },
    {
     "name": "stdout",
     "output_type": "stream",
     "text": [
      "\n",
      "Epoch 185/200 (35.5s)\n",
      "  Train Loss: 0.0324\n",
      "  Val Loss: 0.2338 | Val Acc: 0.9208\n",
      "  Current LR: 0.000000\n"
     ]
    },
    {
     "name": "stderr",
     "output_type": "stream",
     "text": [
      "                                                                                          \r"
     ]
    },
    {
     "name": "stdout",
     "output_type": "stream",
     "text": [
      "\n",
      "Epoch 186/200 (35.8s)\n",
      "  Train Loss: 0.0306\n",
      "  Val Loss: 0.2307 | Val Acc: 0.9167\n",
      "  Current LR: 0.000000\n"
     ]
    },
    {
     "name": "stderr",
     "output_type": "stream",
     "text": [
      "                                                                                          \r"
     ]
    },
    {
     "name": "stdout",
     "output_type": "stream",
     "text": [
      "\n",
      "Epoch 187/200 (35.8s)\n",
      "  Train Loss: 0.0337\n",
      "  Val Loss: 0.2418 | Val Acc: 0.9208\n",
      "  Current LR: 0.000000\n"
     ]
    },
    {
     "name": "stderr",
     "output_type": "stream",
     "text": [
      "                                                                                          \r"
     ]
    },
    {
     "name": "stdout",
     "output_type": "stream",
     "text": [
      "\n",
      "Epoch 188/200 (35.8s)\n",
      "  Train Loss: 0.0323\n",
      "  Val Loss: 0.2480 | Val Acc: 0.9125\n",
      "  Current LR: 0.000000\n"
     ]
    },
    {
     "name": "stderr",
     "output_type": "stream",
     "text": [
      "                                                                                          \r"
     ]
    },
    {
     "name": "stdout",
     "output_type": "stream",
     "text": [
      "\n",
      "Epoch 189/200 (35.8s)\n",
      "  Train Loss: 0.0326\n",
      "  Val Loss: 0.2302 | Val Acc: 0.9250\n",
      "  Current LR: 0.000000\n"
     ]
    },
    {
     "name": "stderr",
     "output_type": "stream",
     "text": [
      "                                                                                         \r"
     ]
    },
    {
     "name": "stdout",
     "output_type": "stream",
     "text": [
      "\n",
      "Epoch 190/200 (35.6s)\n",
      "  Train Loss: 0.0329\n",
      "  Val Loss: 0.2319 | Val Acc: 0.9208\n",
      "  Current LR: 0.000000\n"
     ]
    },
    {
     "name": "stderr",
     "output_type": "stream",
     "text": [
      "                                                                                          \r"
     ]
    },
    {
     "name": "stdout",
     "output_type": "stream",
     "text": [
      "\n",
      "Epoch 191/200 (35.5s)\n",
      "  Train Loss: 0.0337\n",
      "  Val Loss: 0.2304 | Val Acc: 0.9250\n",
      "  Current LR: 0.000000\n"
     ]
    },
    {
     "name": "stderr",
     "output_type": "stream",
     "text": [
      "                                                                                         \r"
     ]
    },
    {
     "name": "stdout",
     "output_type": "stream",
     "text": [
      "\n",
      "Epoch 192/200 (35.7s)\n",
      "  Train Loss: 0.0318\n",
      "  Val Loss: 0.2334 | Val Acc: 0.9208\n",
      "  Current LR: 0.000000\n"
     ]
    },
    {
     "name": "stderr",
     "output_type": "stream",
     "text": [
      "                                                                                          \r"
     ]
    },
    {
     "name": "stdout",
     "output_type": "stream",
     "text": [
      "\n",
      "Epoch 193/200 (35.8s)\n",
      "  Train Loss: 0.0307\n",
      "  Val Loss: 0.2370 | Val Acc: 0.9167\n",
      "  Current LR: 0.000000\n"
     ]
    },
    {
     "name": "stderr",
     "output_type": "stream",
     "text": [
      "                                                                                          \r"
     ]
    },
    {
     "name": "stdout",
     "output_type": "stream",
     "text": [
      "\n",
      "Epoch 194/200 (36.1s)\n",
      "  Train Loss: 0.0315\n",
      "  Val Loss: 0.2375 | Val Acc: 0.9167\n",
      "  Current LR: 0.000000\n"
     ]
    },
    {
     "name": "stderr",
     "output_type": "stream",
     "text": [
      "                                                                                          \r"
     ]
    },
    {
     "name": "stdout",
     "output_type": "stream",
     "text": [
      "\n",
      "Epoch 195/200 (36.0s)\n",
      "  Train Loss: 0.0331\n",
      "  Val Loss: 0.2368 | Val Acc: 0.9208\n",
      "  Current LR: 0.000000\n"
     ]
    },
    {
     "name": "stderr",
     "output_type": "stream",
     "text": [
      "                                                                                          \r"
     ]
    },
    {
     "name": "stdout",
     "output_type": "stream",
     "text": [
      "\n",
      "Epoch 196/200 (36.1s)\n",
      "  Train Loss: 0.0343\n",
      "  Val Loss: 0.2336 | Val Acc: 0.9250\n",
      "  Current LR: 0.000000\n"
     ]
    },
    {
     "name": "stderr",
     "output_type": "stream",
     "text": [
      "                                                                                          \r"
     ]
    },
    {
     "name": "stdout",
     "output_type": "stream",
     "text": [
      "\n",
      "Epoch 197/200 (36.3s)\n",
      "  Train Loss: 0.0347\n",
      "  Val Loss: 0.2363 | Val Acc: 0.9208\n",
      "  Current LR: 0.000000\n"
     ]
    },
    {
     "name": "stderr",
     "output_type": "stream",
     "text": [
      "                                                                                          \r"
     ]
    },
    {
     "name": "stdout",
     "output_type": "stream",
     "text": [
      "\n",
      "Epoch 198/200 (36.2s)\n",
      "  Train Loss: 0.0320\n",
      "  Val Loss: 0.2387 | Val Acc: 0.9208\n",
      "  Current LR: 0.000000\n"
     ]
    },
    {
     "name": "stderr",
     "output_type": "stream",
     "text": [
      "                                                                                          \r"
     ]
    },
    {
     "name": "stdout",
     "output_type": "stream",
     "text": [
      "\n",
      "Epoch 199/200 (35.8s)\n",
      "  Train Loss: 0.0337\n",
      "  Val Loss: 0.2358 | Val Acc: 0.9250\n",
      "  Current LR: 0.000000\n"
     ]
    },
    {
     "name": "stderr",
     "output_type": "stream",
     "text": [
      "                                                                                          \r"
     ]
    },
    {
     "name": "stdout",
     "output_type": "stream",
     "text": [
      "\n",
      "Epoch 200/200 (35.5s)\n",
      "  Train Loss: 0.0329\n",
      "  Val Loss: 0.2348 | Val Acc: 0.9250\n",
      "  Current LR: 0.000000\n",
      "\n",
      "Training complete in 117m 18s\n",
      "Best Validation Accuracy: 0.9542\n",
      "\n",
      "==================================================\n",
      "Training Summary:\n",
      "Original training samples: 1281\n",
      "Augmented training samples: 6405\n",
      "Validation samples: 240\n",
      "Final Validation Accuracy: 0.9250\n",
      "Best Validation Accuracy: 0.9542\n",
      "Model saved as: 'best_resnet50_augmented_model.pth'\n",
      "Saved training_history.png\n",
      "\n",
      "==================================================\n",
      "Testing best model on test dataset...\n"
     ]
    },
    {
     "name": "stderr",
     "output_type": "stream",
     "text": [
      "Testing: 100%|██████████| 4/4 [00:00<00:00,  6.55it/s, acc=0.975]\n"
     ]
    },
    {
     "name": "stdout",
     "output_type": "stream",
     "text": [
      "\n",
      "Test Accuracy: 0.9752 (118/121)\n",
      "\n",
      "Confusion Matrix:\n",
      "[[38  0]\n",
      " [ 3 80]]\n",
      "\n",
      "Classification Report:\n",
      "              precision    recall  f1-score   support\n",
      "\n",
      "     Healthy       0.93      1.00      0.96        38\n",
      "      Cancer       1.00      0.96      0.98        83\n",
      "\n",
      "    accuracy                           0.98       121\n",
      "   macro avg       0.96      0.98      0.97       121\n",
      "weighted avg       0.98      0.98      0.98       121\n",
      "\n",
      "Saved confusion_matrix.png\n",
      "\n",
      "==================================================\n",
      "FINAL REPORT:\n",
      "Best Validation Accuracy: 0.9542\n",
      "Test Accuracy: 0.9752\n",
      "==================================================\n"
     ]
    },
    {
     "ename": "",
     "evalue": "",
     "output_type": "error",
     "traceback": [
      "\u001b[1;31mThe Kernel crashed while executing code in the current cell or a previous cell. \n",
      "\u001b[1;31mPlease review the code in the cell(s) to identify a possible cause of the failure. \n",
      "\u001b[1;31mClick <a href='https://aka.ms/vscodeJupyterKernelCrash'>here</a> for more info. \n",
      "\u001b[1;31mView Jupyter <a href='command:jupyter.viewOutput'>log</a> for further details."
     ]
    }
   ],
   "source": [
    "import torch\n",
    "import torch.nn as nn\n",
    "import torch.optim as optim\n",
    "from torch.utils.data import Dataset, DataLoader\n",
    "from torchvision import transforms, models\n",
    "from PIL import Image\n",
    "import pandas as pd\n",
    "import os\n",
    "import numpy as np\n",
    "import matplotlib.pyplot as plt\n",
    "import time\n",
    "import copy\n",
    "from tqdm import tqdm\n",
    "from sklearn.metrics import confusion_matrix, classification_report  # Moved to top\n",
    "\n",
    "# Paths (unchanged)\n",
    "TRAIN_IMG_DIR = r'/media/prashant/12 TB HDD 21/cancer_portal/BreastCancer-YOLOv8.v1i (2).multiclass-20250626T082316Z-1-001/BreastCancer-YOLOv8.v1i.multiclass/train'\n",
    "VAL_IMG_DIR = r'/media/prashant/12 TB HDD 21/cancer_portal/BreastCancer-YOLOv8.v1i (2).multiclass-20250626T082316Z-1-001/BreastCancer-YOLOv8.v1i.multiclass/valid'\n",
    "TEST_IMG_DIR = r'/media/prashant/12 TB HDD 21/cancer_portal/BreastCancer-YOLOv8.v1i (2).multiclass-20250626T082316Z-1-001/BreastCancer-YOLOv8.v1i.multiclass/test'\n",
    "TRAIN_CSV = r'/media/prashant/12 TB HDD 21/cancer_portal/BreastCancer-YOLOv8.v1i (2).multiclass-20250626T082316Z-1-001/BreastCancer-YOLOv8.v1i.multiclass/train/train.csv'\n",
    "VAL_CSV = r'/media/prashant/12 TB HDD 21/cancer_portal/BreastCancer-YOLOv8.v1i (2).multiclass-20250626T082316Z-1-001/BreastCancer-YOLOv8.v1i.multiclass/valid/valid.csv'\n",
    "TEST_CSV = r'/media/prashant/12 TB HDD 21/cancer_portal/BreastCancer-YOLOv8.v1i (2).multiclass-20250626T082316Z-1-001/BreastCancer-YOLOv8.v1i.multiclass/test/test.csv'\n",
    "\n",
    "BATCH_SIZE = 32\n",
    "NUM_EPOCHS = 200\n",
    "TRAIN_AUGMENT_FACTOR = 5\n",
    "DEVICE = torch.device('cuda' if torch.cuda.is_available() else 'cpu')\n",
    "\n",
    "print(f\"Using device: {DEVICE}\")\n",
    "print(f\"Batch size: {BATCH_SIZE}, Epochs: {NUM_EPOCHS}\")\n",
    "print(f\"Augmentation factor: {TRAIN_AUGMENT_FACTOR}x\\n\")\n",
    "\n",
    "class AugmentedProstateCancerDataset(Dataset):\n",
    "    def __init__(self, csv_path, img_dir, transform=None, augment=False):\n",
    "        if not os.path.exists(csv_path):\n",
    "            raise FileNotFoundError(f\"CSV file not found: {csv_path}\")\n",
    "        self.df = pd.read_csv(csv_path)\n",
    "        \n",
    "        required_columns = ['filename', 'cancer']\n",
    "        for col in required_columns:\n",
    "            if col not in self.df.columns:\n",
    "                raise ValueError(f\"CSV missing required column: '{col}'\")\n",
    "        \n",
    "        invalid_labels = self.df[~self.df['cancer'].isin([0, 1])]\n",
    "        if not invalid_labels.empty:\n",
    "            raise ValueError(f\"Invalid labels found in CSV:\\n{invalid_labels}\")\n",
    "        \n",
    "        if not os.path.exists(img_dir):\n",
    "            raise NotADirectoryError(f\"Image directory not found: {img_dir}\")\n",
    "        \n",
    "        self.img_dir = img_dir\n",
    "        self.transform = transform\n",
    "        self.augment = augment\n",
    "        self.original_size = len(self.df)\n",
    "        \n",
    "        num_pos = (self.df['cancer'] == 1).sum()\n",
    "        num_neg = (self.df['cancer'] == 0).sum()\n",
    "        print(f\"Dataset: {os.path.basename(csv_path)}\")\n",
    "        print(f\"  Original samples: {self.original_size}\")\n",
    "        print(f\"  Positive (cancer): {num_pos} ({num_pos/self.original_size*100:.1f}%)\")\n",
    "        print(f\"  Negative (healthy): {num_neg} ({num_neg/self.original_size*100:.1f}%)\")\n",
    "        \n",
    "        missing_files = []\n",
    "        for idx, row in self.df.iterrows():\n",
    "            img_path = os.path.join(self.img_dir, row['filename'])\n",
    "            if not os.path.exists(img_path):\n",
    "                missing_files.append((idx, row['filename']))\n",
    "        \n",
    "        if missing_files:\n",
    "            print(\"\\nWARNING: Missing image files:\")\n",
    "            for idx, fname in missing_files[:5]:\n",
    "                print(f\"  Row {idx}: {fname}\")\n",
    "            if len(missing_files) > 5:\n",
    "                print(f\"  ... and {len(missing_files)-5} more\")\n",
    "            raise FileNotFoundError(f\"Total missing images: {len(missing_files)}\")\n",
    "        else:\n",
    "            print(\"  All image files verified successfully\")\n",
    "        \n",
    "    def __len__(self):\n",
    "        if self.augment:\n",
    "            return self.original_size * TRAIN_AUGMENT_FACTOR\n",
    "        return self.original_size\n",
    "    \n",
    "    def __getitem__(self, idx):\n",
    "        orig_idx = idx % self.original_size\n",
    "        img_name = self.df.iloc[orig_idx]['filename']\n",
    "        label = self.df.iloc[orig_idx]['cancer']\n",
    "        img_path = os.path.join(self.img_dir, img_name)\n",
    "        \n",
    "        try:\n",
    "            image = Image.open(img_path).convert('RGB')\n",
    "        except Exception as e:\n",
    "            print(f\"\\nERROR loading image: {img_path}\")\n",
    "            print(f\"Exception: {str(e)}\")\n",
    "            image = Image.new('RGB', (224, 224), color='black')\n",
    "            return image, torch.tensor(-1, dtype=torch.float32)\n",
    "        \n",
    "        # Fixed: Always use the provided transform\n",
    "        if self.transform:\n",
    "            image = self.transform(image)\n",
    "            \n",
    "        return image, torch.tensor(label, dtype=torch.float32)\n",
    "\n",
    "# Image Transformations (unchanged)\n",
    "train_transform = transforms.Compose([\n",
    "    transforms.RandomHorizontalFlip(p=0.5),\n",
    "    transforms.RandomRotation(10),\n",
    "    transforms.RandomResizedCrop(224, scale=(0.8, 1.0)),\n",
    "    transforms.ColorJitter(brightness=0.2, contrast=0.2, saturation=0.2, hue=0.1),\n",
    "    transforms.ToTensor(),\n",
    "    transforms.Normalize([0.485, 0.456, 0.406], [0.229, 0.224, 0.225])\n",
    "])\n",
    "\n",
    "val_transform = transforms.Compose([\n",
    "    transforms.Resize(256),\n",
    "    transforms.CenterCrop(224),\n",
    "    transforms.ToTensor(),\n",
    "    transforms.Normalize([0.485, 0.456, 0.406], [0.229, 0.224, 0.225])\n",
    "])\n",
    "\n",
    "# Create Datasets and DataLoaders (unchanged)\n",
    "print(\"\\n\" + \"=\"*50)\n",
    "print(\"Creating training dataset with augmentation:\")\n",
    "train_dataset = AugmentedProstateCancerDataset(TRAIN_CSV, TRAIN_IMG_DIR, train_transform, augment=True)\n",
    "print(f\"  Augmented training size: {len(train_dataset)} images ({TRAIN_AUGMENT_FACTOR}x original)\")\n",
    "\n",
    "print(\"\\n\" + \"=\"*50)\n",
    "print(\"Creating validation dataset:\")\n",
    "val_dataset = AugmentedProstateCancerDataset(VAL_CSV, VAL_IMG_DIR, val_transform, augment=False)\n",
    "print(f\"  Validation size: {len(val_dataset)} images\")\n",
    "\n",
    "print(\"\\n\" + \"=\"*50)\n",
    "print(\"Creating test dataset:\")\n",
    "test_dataset = AugmentedProstateCancerDataset(TEST_CSV, TEST_IMG_DIR, val_transform, augment=False)\n",
    "print(f\"  Test size: {len(test_dataset)} images\")\n",
    "\n",
    "train_loader = DataLoader(train_dataset, batch_size=BATCH_SIZE, shuffle=True, num_workers=4, pin_memory=True)\n",
    "val_loader = DataLoader(val_dataset, batch_size=BATCH_SIZE, shuffle=False, num_workers=4, pin_memory=True)\n",
    "test_loader = DataLoader(test_dataset, batch_size=BATCH_SIZE, shuffle=False, num_workers=4, pin_memory=True)\n",
    "\n",
    "print(\"\\n\" + \"=\"*50)\n",
    "print(f\"Training batches: {len(train_loader)} ({len(train_dataset)} images)\")\n",
    "print(f\"Validation batches: {len(val_loader)} ({len(val_dataset)} images)\")\n",
    "print(f\"Test batches: {len(test_loader)} ({len(test_dataset)} images)\")\n",
    "\n",
    "# Initialize Model (unchanged)\n",
    "print(\"\\n\" + \"=\"*50)\n",
    "print(\"Initializing ResNet50 model...\")\n",
    "model = models.resnet50(weights='DEFAULT')\n",
    "num_ftrs = model.fc.in_features\n",
    "model.fc = nn.Linear(num_ftrs, 1)\n",
    "model = model.to(DEVICE)\n",
    "\n",
    "# Loss and Optimizer (unchanged)\n",
    "criterion = nn.BCEWithLogitsLoss()\n",
    "optimizer = optim.Adam(model.parameters(), lr=0.001)\n",
    "scheduler = optim.lr_scheduler.ReduceLROnPlateau(\n",
    "    optimizer, mode='max', factor=0.5, patience=3\n",
    ")\n",
    "\n",
    "print(f\"\\nModel architecture:\")\n",
    "print(model)\n",
    "print(f\"\\nTrainable parameters: {sum(p.numel() for p in model.parameters() if p.requires_grad):,}\")\n",
    "\n",
    "# Function to visualize augmented images (unchanged)\n",
    "def visualize_augmentations(dataset, num_samples=5):\n",
    "    print(\"\\nVisualizing augmented images...\")\n",
    "    fig, axes = plt.subplots(num_samples, 3, figsize=(15, num_samples*3))\n",
    "    fig.suptitle('Image Augmentation Examples', fontsize=16)\n",
    "    \n",
    "    for i in range(num_samples):\n",
    "        orig_idx = np.random.randint(0, dataset.original_size)\n",
    "        img_name = dataset.df.iloc[orig_idx]['filename']\n",
    "        img_path = os.path.join(dataset.img_dir, img_name)\n",
    "        orig_image = Image.open(img_path).convert('RGB')\n",
    "        \n",
    "        aug_idx1 = orig_idx * TRAIN_AUGMENT_FACTOR\n",
    "        aug_idx2 = orig_idx * TRAIN_AUGMENT_FACTOR + 1\n",
    "        \n",
    "        aug_image1, _ = dataset[aug_idx1]\n",
    "        aug_image2, _ = dataset[aug_idx2]\n",
    "        \n",
    "        def denormalize(tensor):\n",
    "            mean = torch.tensor([0.485, 0.456, 0.406]).view(3, 1, 1)\n",
    "            std = torch.tensor([0.229, 0.224, 0.225]).view(3, 1, 1)\n",
    "            tensor = tensor * std + mean\n",
    "            tensor = tensor.clamp(0, 1)\n",
    "            return tensor.permute(1, 2, 0).numpy()\n",
    "        \n",
    "        axes[i, 0].imshow(orig_image)\n",
    "        axes[i, 0].set_title(f\"Original\\n{img_name}\")\n",
    "        axes[i, 0].axis('off')\n",
    "        \n",
    "        axes[i, 1].imshow(denormalize(aug_image1))\n",
    "        axes[i, 1].set_title(\"Augmentation 1\")\n",
    "        axes[i, 1].axis('off')\n",
    "        \n",
    "        axes[i, 2].imshow(denormalize(aug_image2))\n",
    "        axes[i, 2].set_title(\"Augmentation 2\")\n",
    "        axes[i, 2].axis('off')\n",
    "    \n",
    "    plt.tight_layout()\n",
    "    plt.savefig('augmentation_samples.png', dpi=150)\n",
    "    plt.close()\n",
    "    print(\"Saved augmentation_samples.png\")\n",
    "\n",
    "# Visualize augmentations (unchanged)\n",
    "visualize_augmentations(train_dataset)\n",
    "\n",
    "# Training Function with tqdm progress bars (unchanged)\n",
    "def train_model(model, train_loader, val_loader, criterion, optimizer, num_epochs):\n",
    "    best_acc = 0.0\n",
    "    best_model_wts = copy.deepcopy(model.state_dict())\n",
    "    history = {'train_loss': [], 'val_loss': [], 'val_acc': []}\n",
    "    start_time = time.time()\n",
    "    \n",
    "    print(\"\\n\" + \"=\"*50)\n",
    "    print(\"Starting training...\")\n",
    "    \n",
    "    for epoch in range(num_epochs):\n",
    "        epoch_start = time.time()\n",
    "        # Training Phase\n",
    "        model.train()\n",
    "        running_loss = 0.0\n",
    "        processed = 0\n",
    "        \n",
    "        # Wrap train loader with tqdm\n",
    "        train_loop = tqdm(train_loader, desc=f'Epoch {epoch+1}/{num_epochs} [Training]', leave=False)\n",
    "        for inputs, labels in train_loop:\n",
    "            if (labels < 0).any():\n",
    "                print(\"Skipping batch with invalid labels\")\n",
    "                continue\n",
    "                \n",
    "            inputs = inputs.to(DEVICE)\n",
    "            labels = labels.unsqueeze(1).to(DEVICE)\n",
    "            \n",
    "            optimizer.zero_grad()\n",
    "            outputs = model(inputs)\n",
    "            loss = criterion(outputs, labels)\n",
    "            loss.backward()\n",
    "            optimizer.step()\n",
    "            \n",
    "            running_loss += loss.item() * inputs.size(0)\n",
    "            processed += inputs.size(0)\n",
    "            \n",
    "            # Update progress bar\n",
    "            train_loop.set_postfix(loss=loss.item())\n",
    "            \n",
    "        epoch_loss = running_loss / processed\n",
    "        \n",
    "        # Validation Phase\n",
    "        model.eval()\n",
    "        val_loss = 0.0\n",
    "        correct = 0\n",
    "        total = 0\n",
    "        \n",
    "        # Wrap validation loader with tqdm\n",
    "        val_loop = tqdm(val_loader, desc=f'Epoch {epoch+1}/{num_epochs} [Validation]', leave=False)\n",
    "        with torch.no_grad():\n",
    "            for inputs, labels in val_loop:\n",
    "                if (labels < 0).any():\n",
    "                    print(\"Skipping batch with invalid labels\")\n",
    "                    continue\n",
    "                    \n",
    "                inputs = inputs.to(DEVICE)\n",
    "                labels = labels.unsqueeze(1).to(DEVICE)\n",
    "                \n",
    "                outputs = model(inputs)\n",
    "                loss = criterion(outputs, labels)\n",
    "                val_loss += loss.item() * inputs.size(0)\n",
    "                \n",
    "                preds = torch.sigmoid(outputs) > 0.5\n",
    "                correct += (preds == labels).sum().item()\n",
    "                total += labels.size(0)\n",
    "                \n",
    "                # Update progress bar\n",
    "                current_acc = correct / total if total > 0 else 0\n",
    "                val_loop.set_postfix(acc=current_acc)\n",
    "        \n",
    "        val_loss = val_loss / total if total > 0 else 0\n",
    "        val_acc = correct / total if total > 0 else 0\n",
    "        \n",
    "        # Update history\n",
    "        history['train_loss'].append(epoch_loss)\n",
    "        history['val_loss'].append(val_loss)\n",
    "        history['val_acc'].append(val_acc)\n",
    "        \n",
    "        # Track LR changes\n",
    "        old_lr = optimizer.param_groups[0]['lr']\n",
    "        scheduler.step(val_acc)\n",
    "        new_lr = optimizer.param_groups[0]['lr']\n",
    "        \n",
    "        epoch_time = time.time() - epoch_start\n",
    "        print(f\"\\nEpoch {epoch+1}/{num_epochs} ({epoch_time:.1f}s)\")\n",
    "        print(f\"  Train Loss: {epoch_loss:.4f}\")\n",
    "        print(f\"  Val Loss: {val_loss:.4f} | Val Acc: {val_acc:.4f}\")\n",
    "        print(f\"  Current LR: {old_lr:.6f}\")\n",
    "        \n",
    "        # Print if LR changed\n",
    "        if new_lr != old_lr:\n",
    "            print(f\"  LR reduced from {old_lr:.6f} to {new_lr:.6f}\")\n",
    "        \n",
    "        # Save best model\n",
    "        if val_acc > best_acc:\n",
    "            best_acc = val_acc\n",
    "            best_model_wts = copy.deepcopy(model.state_dict())\n",
    "            torch.save(best_model_wts, 'best_resnet50_augmented_model.pth')\n",
    "            print(f\"  Saved new best model with accuracy: {best_acc:.4f}\")\n",
    "    \n",
    "    total_time = time.time() - start_time\n",
    "    print(f\"\\nTraining complete in {total_time//60:.0f}m {total_time%60:.0f}s\")\n",
    "    print(f\"Best Validation Accuracy: {best_acc:.4f}\")\n",
    "    \n",
    "    # Load best model weights\n",
    "    model.load_state_dict(best_model_wts)\n",
    "    return model, history\n",
    "\n",
    "# Start training (unchanged)\n",
    "trained_model, history = train_model(model, train_loader, val_loader, criterion, optimizer, NUM_EPOCHS)\n",
    "\n",
    "# Final summary (unchanged)\n",
    "print(\"\\n\" + \"=\"*50)\n",
    "print(\"Training Summary:\")\n",
    "print(f\"Original training samples: {train_dataset.original_size}\")\n",
    "print(f\"Augmented training samples: {len(train_dataset)}\")\n",
    "print(f\"Validation samples: {len(val_dataset)}\")\n",
    "print(f\"Final Validation Accuracy: {history['val_acc'][-1]:.4f}\")\n",
    "print(f\"Best Validation Accuracy: {max(history['val_acc']):.4f}\")\n",
    "print(f\"Model saved as: 'best_resnet50_augmented_model.pth'\")\n",
    "\n",
    "# Plot training history (unchanged)\n",
    "def plot_history(history):\n",
    "    plt.figure(figsize=(12, 5))\n",
    "    \n",
    "    # Loss plot\n",
    "    plt.subplot(1, 2, 1)\n",
    "    plt.plot(history['train_loss'], label='Train Loss')\n",
    "    plt.plot(history['val_loss'], label='Validation Loss')\n",
    "    plt.title('Training and Validation Loss')\n",
    "    plt.xlabel('Epoch')\n",
    "    plt.ylabel('Loss')\n",
    "    plt.legend()\n",
    "    plt.grid(True)\n",
    "    \n",
    "    # Accuracy plot\n",
    "    plt.subplot(1, 2, 2)\n",
    "    plt.plot(history['val_acc'], label='Validation Accuracy', color='green')\n",
    "    plt.title('Validation Accuracy')\n",
    "    plt.xlabel('Epoch')\n",
    "    plt.ylabel('Accuracy')\n",
    "    plt.legend()\n",
    "    plt.grid(True)\n",
    "    \n",
    "    plt.tight_layout()\n",
    "    plt.savefig('training_history.png', dpi=150)\n",
    "    plt.close()\n",
    "    print(\"Saved training_history.png\")\n",
    "\n",
    "plot_history(history)\n",
    "\n",
    "# Fixed test_model function (complete version)\n",
    "def test_model(model, test_loader):\n",
    "    print(\"\\n\" + \"=\"*50)\n",
    "    print(\"Testing best model on test dataset...\")\n",
    "    \n",
    "    model.eval()\n",
    "    correct = 0\n",
    "    total = 0\n",
    "    all_labels = []\n",
    "    all_preds = []\n",
    "    \n",
    "    # Create progress bar for test phase\n",
    "    test_loop = tqdm(test_loader, desc='Testing', leave=True)\n",
    "    with torch.no_grad():\n",
    "        for inputs, labels in test_loop:\n",
    "            if (labels < 0).any():\n",
    "                print(\"Skipping batch with invalid labels\")\n",
    "                continue\n",
    "                \n",
    "            inputs = inputs.to(DEVICE)\n",
    "            labels = labels.unsqueeze(1).to(DEVICE)\n",
    "            \n",
    "            outputs = model(inputs)\n",
    "            preds = torch.sigmoid(outputs) > 0.5\n",
    "            \n",
    "            correct += (preds == labels).sum().item()\n",
    "            total += labels.size(0)\n",
    "            \n",
    "            # Store for confusion matrix\n",
    "            all_labels.extend(labels.cpu().numpy().flatten())\n",
    "            all_preds.extend(preds.cpu().numpy().flatten())\n",
    "            \n",
    "            # Update progress bar\n",
    "            current_acc = correct / total if total > 0 else 0\n",
    "            test_loop.set_postfix(acc=current_acc)\n",
    "    \n",
    "    test_acc = correct / total if total > 0 else 0\n",
    "    print(f\"\\nTest Accuracy: {test_acc:.4f} ({correct}/{total})\")\n",
    "    \n",
    "    # Generate confusion matrix\n",
    "    cm = confusion_matrix(all_labels, all_preds)\n",
    "    report = classification_report(all_labels, all_preds, target_names=['Healthy', 'Cancer'])\n",
    "    \n",
    "    print(\"\\nConfusion Matrix:\")\n",
    "    print(cm)\n",
    "    print(\"\\nClassification Report:\")\n",
    "    print(report)\n",
    "    \n",
    "    # Plot confusion matrix\n",
    "    plt.figure(figsize=(8, 6))\n",
    "    plt.imshow(cm, interpolation='nearest', cmap=plt.cm.Blues)\n",
    "    plt.title('Confusion Matrix')\n",
    "    plt.colorbar()\n",
    "    tick_marks = np.arange(2)\n",
    "    plt.xticks(tick_marks, ['Healthy', 'Cancer'], rotation=45)\n",
    "    plt.yticks(tick_marks, ['Healthy', 'Cancer'])\n",
    "    \n",
    "    thresh = cm.max() / 2.\n",
    "    for i in range(cm.shape[0]):\n",
    "        for j in range(cm.shape[1]):\n",
    "            plt.text(j, i, format(cm[i, j], 'd'),\n",
    "                     horizontalalignment=\"center\",\n",
    "                     color=\"white\" if cm[i, j] > thresh else \"black\")\n",
    "    \n",
    "    plt.tight_layout()\n",
    "    plt.ylabel('True label')\n",
    "    plt.xlabel('Predicted label')\n",
    "    plt.savefig('confusion_matrix.png', dpi=150)\n",
    "    plt.close()\n",
    "    print(\"Saved confusion_matrix.png\")\n",
    "    \n",
    "    return test_acc\n",
    "\n",
    "# Load best model and test (unchanged)\n",
    "best_model = models.resnet50()\n",
    "best_model.fc = nn.Linear(best_model.fc.in_features, 1)\n",
    "best_model.load_state_dict(torch.load('best_resnet50_augmented_model.pth'))\n",
    "best_model = best_model.to(DEVICE)\n",
    "\n",
    "test_acc = test_model(best_model, test_loader)\n",
    "\n",
    "# Final report (unchanged)\n",
    "print(\"\\n\" + \"=\"*50)\n",
    "print(\"FINAL REPORT:\")\n",
    "print(f\"Best Validation Accuracy: {max(history['val_acc']):.4f}\")\n",
    "print(f\"Test Accuracy: {test_acc:.4f}\")\n",
    "print(\"=\"*50)"
   ]
  }
 ],
 "metadata": {
  "kernelspec": {
   "display_name": "mark_7",
   "language": "python",
   "name": "python3"
  },
  "language_info": {
   "codemirror_mode": {
    "name": "ipython",
    "version": 3
   },
   "file_extension": ".py",
   "mimetype": "text/x-python",
   "name": "python",
   "nbconvert_exporter": "python",
   "pygments_lexer": "ipython3",
   "version": "3.12.6"
  }
 },
 "nbformat": 4,
 "nbformat_minor": 2
}
